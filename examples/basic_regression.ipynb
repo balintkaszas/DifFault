{
 "cells": [
  {
   "cell_type": "markdown",
   "id": "94168b51-ebd6-4e2b-aa83-59120649b3b1",
   "metadata": {},
   "source": [
    "# Determining parameters\n"
   ]
  },
  {
   "cell_type": "markdown",
   "id": "096c8c00-92a7-4d56-b762-d1ff27a53675",
   "metadata": {},
   "source": [
    "The Fourier transform of the convolutional line profile arising from planar faults, dislocations, and size effects can be evaluated as \n",
    "\n",
    "$$\n",
    "A_{hkl}(L) = A_S(L)A_D(L)A_F(L),\n",
    "$$\n",
    "\n",
    "where the variable $L$ is relted to $\\kappa$ through the Fourier-transform and $\\kappa$ is defined as\n",
    "\n",
    "$$\n",
    "\\kappa = \\frac{2\\sin \\theta}{\\lambda}.\n",
    "$$\n",
    "\n",
    "The profile can then be evaluated as \n",
    "\n",
    "$$\n",
    "I(\\kappa)_{hkl} = \\int_{-\\infty}^\\infty e^{2\\pi i \\kappa L}A_{hkl}(L)dL.\n",
    "$$\n",
    "\n",
    "The observed spectrum is a linear combination of these. We therefore have to sum over the Miller-indices as\n",
    "\n",
    "$$\n",
    "I(\\kappa) = \\sum_{h,k,l}I_{hkl}^{max}I(\\kappa-g_{hkl})_{hkl}.\n",
    "$$"
   ]
  },
  {
   "cell_type": "markdown",
   "id": "ba5cef8e-67ae-40d8-b20a-d3bdc504f4e6",
   "metadata": {},
   "source": [
    "Generally, we assume that the lattice constant $a$, the Burgers vector $b$, and $C_{h00}$ are known for the sample. Then, the parameters to be determined are\n",
    "\n",
    "- $\\rho$\n",
    "- $m$\n",
    "- $\\sigma$\n",
    "- $q$\n",
    "- $R^*$\n",
    "- $\\beta$ or $\\alpha$, the planar fault probability\n",
    "\n",
    "In addition, the peak locations and peak amplitudes are also to be determined."
   ]
  },
  {
   "cell_type": "code",
   "execution_count": 1,
   "id": "4e676518-3a7d-4e86-9fdb-332678bdf91f",
   "metadata": {},
   "outputs": [],
   "source": [
    "import numpy as np\n",
    "import torch\n",
    "import matplotlib.pyplot as plt\n",
    "from matplotlib import rc\n",
    "rc('font',**{'family':'sans-serif','sans-serif':['Helvetica']})\n",
    "rc('text', usetex=True)"
   ]
  },
  {
   "cell_type": "code",
   "execution_count": 2,
   "id": "8af13d8d-d082-4d5b-9411-881c5bb377ea",
   "metadata": {},
   "outputs": [],
   "source": [
    "import matplotlib"
   ]
  },
  {
   "cell_type": "code",
   "execution_count": 3,
   "id": "94fdb982-39e7-4cfe-9241-9adf4bd46b57",
   "metadata": {},
   "outputs": [],
   "source": [
    "%load_ext autoreload\n",
    "%autoreload 2\n",
    "%aimport  diffaultpy"
   ]
  },
  {
   "cell_type": "code",
   "execution_count": 4,
   "id": "a0bc2574-1051-4a52-8000-7fcdb4916b36",
   "metadata": {},
   "outputs": [],
   "source": [
    "from diffaultpy.peak_shapes import Peak, generate_multiple_peaks\n"
   ]
  },
  {
   "cell_type": "code",
   "execution_count": 5,
   "id": "13ae7ee1-2d2b-4880-a75e-9add1d9d7d13",
   "metadata": {},
   "outputs": [],
   "source": [
    "N = 1024 * 8 \n"
   ]
  },
  {
   "cell_type": "markdown",
   "id": "d9a78577-4845-4147-b1db-11032190f741",
   "metadata": {},
   "source": [
    "Here we initialize a Peak object\n",
    "\n",
    "with the following properties.\n",
    "\n",
    "$$a =0.36, b =0.255, C_{h00}=0.1. $$\n",
    "\n",
    "\n",
    "The computational domain will correspond to $\\kappa \\in [0, \\kappa_{max}]$ with $\\kappa_{max}=14$. "
   ]
  },
  {
   "cell_type": "code",
   "execution_count": 6,
   "id": "1891edd9-91bd-436c-b85b-b806515b7cdd",
   "metadata": {},
   "outputs": [],
   "source": [
    "lattice_constant = 0.36\n",
    "\n"
   ]
  },
  {
   "cell_type": "markdown",
   "id": "009f36db-e726-4c96-a32d-0e5d2b89071c",
   "metadata": {},
   "source": [
    "Let us also fix the following parameters\n",
    "\n",
    "$$\n",
    "\\rho = 0.01, m = 10, R^* = 60, \\sigma = 0.001,  q=2, B = 0.05\n",
    "$$\n"
   ]
  },
  {
   "cell_type": "code",
   "execution_count": 7,
   "id": "682e80d2-e214-40f0-8ddb-e4270b2ba4a0",
   "metadata": {},
   "outputs": [],
   "source": [
    "rho_true = 0.01\n",
    "m_true = 20\n",
    "Rstar_true = 5\n",
    "sigma_true = 0.1\n",
    "q_true = 3\n",
    "B_true = 0.05"
   ]
  },
  {
   "cell_type": "markdown",
   "id": "2ed0b74c-80a7-4cb4-b64a-c6d773388e23",
   "metadata": {},
   "source": [
    "Assuming an FCC lattice, we'll simulate a spectrum corresponding to the first 5 peaks."
   ]
  },
  {
   "cell_type": "code",
   "execution_count": 8,
   "id": "10e6f2b3-55d1-49bf-a092-a28860a55fdc",
   "metadata": {},
   "outputs": [],
   "source": [
    "np.random.seed(4)\n",
    "intensities = np.random.rand(5,1)\n",
    "offsets = (np.random.rand(5,1) -0.5) * 1e-3\n"
   ]
  },
  {
   "cell_type": "code",
   "execution_count": 9,
   "id": "c5e3763b-9561-4002-9b06-80ddaacc9bea",
   "metadata": {},
   "outputs": [],
   "source": [
    "h, k, l = 2, 0, 0\n",
    "kappa_max = 14\n",
    "N_fourier = 8192\n",
    "lattice_constant = 0.36\n",
    "burgers_vector = 0.255\n",
    "Ch00 = 0.36\n",
    "single_peak = Peak(kappa_max,\n",
    "                    N_fourier, \n",
    "                    Ch00, \n",
    "                    burgers_vector,\n",
    "                      lattice_constant, \n",
    "                      stacking_or_twin_fault='stacking',\n",
    "                        approximation_wilkens='polynomial')\n"
   ]
  },
  {
   "cell_type": "code",
   "execution_count": 11,
   "id": "0ccf928a-af23-4699-8fcf-50575674f865",
   "metadata": {},
   "outputs": [],
   "source": [
    "true_spectrum = generate_multiple_peaks(single_peak,\n",
    "                                        m_true,\n",
    "                                        sigma_true,\n",
    "                                        rho_true,\n",
    "                                        Rstar_true,\n",
    "                                        q_true,\n",
    "                                        peak_intensities=intensities,\n",
    "                                        planar_fault_probability=B_true,\n",
    "                                       offset=offsets)"
   ]
  },
  {
   "cell_type": "code",
   "execution_count": 41,
   "id": "e0a680d8-3b11-4304-ba77-609f0d96f20b",
   "metadata": {},
   "outputs": [
    {
     "data": {
      "text/plain": [
       "Text(0, 0.5, 'Intensity')"
      ]
     },
     "execution_count": 41,
     "metadata": {},
     "output_type": "execute_result"
    },
    {
     "data": {
      "image/png": "[encoded data removed]",
      "text/plain": [
       "<Figure size 432x288 with 1 Axes>"
      ]
     },
     "metadata": {
      "needs_background": "light"
     },
     "output_type": "display_data"
    }
   ],
   "source": [
    "plt.plot(single_peak.positive_diffraction_vectors, true_spectrum, '-', c='black')\n",
    "plt.xlabel('$\\kappa$ $[nm^{-1}]$', fontsize = 15)\n",
    "plt.ylabel('Intensity', fontsize = 15)\n",
    "#plt.savefig('Sample_spectrum.png')"
   ]
  },
  {
   "cell_type": "markdown",
   "id": "8eed627a-98e7-467d-9039-087e83bb1c97",
   "metadata": {},
   "source": [
    "Let us set up a loss function for the optimization. Combine all variables into a single vector first."
   ]
  },
  {
   "cell_type": "code",
   "execution_count": 14,
   "id": "e6e9a382-efec-48ba-87f6-f2c632a275d4",
   "metadata": {},
   "outputs": [],
   "source": [
    "def unpack_x(x):\n",
    "    m, sigma, B, rho, Rstar, q = x[:6]\n",
    "    intensity = x[6:11].reshape(-1,1)\n",
    "    offset = x[11:].reshape(-1,1)\n",
    "    return m, sigma, B, rho, Rstar, q, intensity, offset"
   ]
  },
  {
   "cell_type": "code",
   "execution_count": 20,
   "id": "6d40fc1c-42a5-4371-b01b-d115b09d71d4",
   "metadata": {},
   "outputs": [],
   "source": [
    "def loss(x):\n",
    "    m, sigma, B, rho, Rstar, q = x[:6]\n",
    "    intensity = x[6:11].reshape(-1,1)\n",
    "    offset = x[11:].reshape(-1,1)\n",
    "    spectrum = generate_multiple_peaks(single_peak,\n",
    "                                        m,\n",
    "                                        sigma,\n",
    "                                       rho,\n",
    "                                        Rstar,\n",
    "                                        q,\n",
    "                                        peak_intensities=intensity,\n",
    "                                       planar_fault_probability=B,\n",
    "                                       offset=offset)\n",
    "    return np.ravel(true_spectrum - spectrum)"
   ]
  },
  {
   "cell_type": "code",
   "execution_count": 21,
   "id": "7e96cf1c-c71a-4448-8f97-653e8e7ecc99",
   "metadata": {},
   "outputs": [],
   "source": [
    "true_x = np.concatenate(([m_true, sigma_true, B_true, rho_true, Rstar_true, q_true], *intensities, *offsets))"
   ]
  },
  {
   "cell_type": "code",
   "execution_count": 22,
   "id": "435bf1c9-79fc-4f3e-80d9-bfde9ef459d7",
   "metadata": {},
   "outputs": [],
   "source": [
    "from scipy.optimize import least_squares"
   ]
  },
  {
   "cell_type": "code",
   "execution_count": 23,
   "id": "60f07028-cdde-46e1-8347-3a2105e6cd32",
   "metadata": {},
   "outputs": [],
   "source": [
    "np.random.seed(3)\n",
    "x_0 = true_x + (np.random.rand(16)*0.05)"
   ]
  },
  {
   "cell_type": "code",
   "execution_count": 24,
   "id": "7508713c-ca3d-4368-8a5b-8e9691909043",
   "metadata": {},
   "outputs": [
    {
     "name": "stderr",
     "output_type": "stream",
     "text": [
      "/Users/balintkaszas/Diffault/diffaultpy/math_backend.py:127: RuntimeWarning: invalid value encountered in log\n",
      "  return np.log(x)\n",
      "/Users/balintkaszas/Diffault/diffaultpy/math_backend.py:104: RuntimeWarning: invalid value encountered in sqrt\n",
      "  return np.sqrt(x)\n",
      "/Users/balintkaszas/Diffault/diffaultpy/math_backend.py:139: RuntimeWarning: invalid value encountered in arcsin\n",
      "  return np.arcsin(x)\n"
     ]
    }
   ],
   "source": [
    "res = least_squares(loss, x_0)"
   ]
  },
  {
   "cell_type": "code",
   "execution_count": 25,
   "id": "53412d5e-fd83-435c-b877-d2ad04e65c61",
   "metadata": {},
   "outputs": [],
   "source": [
    "m, sigma, B, rho, Rstar, q, intensity, offset = unpack_x(res.x)"
   ]
  },
  {
   "cell_type": "code",
   "execution_count": 27,
   "id": "67e886b2-f4a7-44e8-b9eb-f3f6606ad928",
   "metadata": {},
   "outputs": [],
   "source": [
    "predicted_spectrum = generate_multiple_peaks(single_peak,\n",
    "                                        m,\n",
    "                                        sigma,\n",
    "                                        rho,\n",
    "                                        Rstar,\n",
    "                                        q,\n",
    "                                        peak_intensities=intensity,\n",
    "                                             planar_fault_probability=B,\n",
    "                                       offset = offset)"
   ]
  },
  {
   "cell_type": "code",
   "execution_count": 28,
   "id": "eb3cd2f7-936f-4e2f-b89f-043fb988f3db",
   "metadata": {},
   "outputs": [
    {
     "data": {
      "text/plain": [
       "Text(0, 0.5, 'Intensity')"
      ]
     },
     "execution_count": 28,
     "metadata": {},
     "output_type": "execute_result"
    },
    {
     "data": {
      "image/png": "[encoded data removed]",
      "text/plain": [
       "<Figure size 432x288 with 1 Axes>"
      ]
     },
     "metadata": {
      "needs_background": "light"
     },
     "output_type": "display_data"
    }
   ],
   "source": [
    "plt.plot(single_peak.positive_diffraction_vectors, true_spectrum, label = 'True spectrum')\n",
    "plt.plot(single_peak.positive_diffraction_vectors, predicted_spectrum, label = 'With identified parameters')\n",
    "plt.legend()\n",
    "plt.xlabel('$\\\\kappa$')\n",
    "plt.ylabel('Intensity')\n"
   ]
  },
  {
   "cell_type": "code",
   "execution_count": 29,
   "id": "4ec97367-c5a7-471b-a0ad-ae88b4c08cca",
   "metadata": {},
   "outputs": [
    {
     "data": {
      "text/plain": [
       "Text(0, 0.5, 'Error')"
      ]
     },
     "execution_count": 29,
     "metadata": {},
     "output_type": "execute_result"
    },
    {
     "data": {
      "image/png": "[encoded data removed]",
      "text/plain": [
       "<Figure size 432x288 with 1 Axes>"
      ]
     },
     "metadata": {
      "needs_background": "light"
     },
     "output_type": "display_data"
    }
   ],
   "source": [
    "plt.semilogy(single_peak.positive_diffraction_vectors, np.abs(true_spectrum-predicted_spectrum), c='black')\n",
    "plt.xlabel('$\\\\kappa$')\n",
    "plt.ylabel('Error')\n"
   ]
  },
  {
   "cell_type": "markdown",
   "id": "da300e55-c944-4876-b530-4ea5cc587730",
   "metadata": {},
   "source": [
    "## Generate multiple spectra at once"
   ]
  },
  {
   "cell_type": "code",
   "execution_count": 30,
   "id": "02b41b74-20fb-4372-a95c-7a00f79dcf4f",
   "metadata": {},
   "outputs": [],
   "source": [
    "domains = {'B': [0, 0.05],\n",
    "           'm': [5., 100.],\n",
    "           'sigma': [0.1, 1.],\n",
    "           'rho': [0.0005, 0.05],\n",
    "           'Rstar' : [2., 100.],\n",
    "           'q' : [1.5, 2.3],\n",
    "           'offset' : [-0.05, 0.05],\n",
    "           'intensity' : [0, 1]\n",
    "          }\n",
    "\n",
    "def generate_spectra_in_domain(num_spectra, num_peaks, domains, seed = 0):\n",
    "    torch.manual_seed(seed)\n",
    "    params = {}\n",
    "    \n",
    "    params['m'] = (domains['m'][1] - domains['m'][0]) * torch.rand(1, num_spectra) + domains['m'][0]\n",
    "    params['sigma'] = (domains['sigma'][1] - domains['sigma'][0]) * torch.rand(1, num_spectra) + domains['sigma'][0]\n",
    "    params['B'] = (domains['B'][1] - domains['B'][0]) * torch.rand(1, num_spectra) + domains['B'][0]\n",
    "    params['rho'] = (domains['rho'][1] - domains['rho'][0]) * torch.rand(1, num_spectra) + domains['rho'][0]\n",
    "    params['Rstar'] = (domains['Rstar'][1] - domains['Rstar'][0]) * torch.rand(1, num_spectra) + domains['Rstar'][0]\n",
    "    params['q'] = (domains['q'][1] - domains['q'][0]) * torch.rand(1, num_spectra) + domains['q'][0]\n",
    "    params['intensity'] = (domains['intensity'][1] - domains['intensity'][0]) * torch.rand(num_peaks, num_spectra) + domains['intensity'][0]\n",
    "    params['offset'] = (domains['offset'][1] - domains['offset'][0]) * torch.rand(num_peaks, num_spectra) + domains['offset'][0]\n",
    "    return params\n",
    "    \n",
    "        \n",
    "\n",
    "    "
   ]
  },
  {
   "cell_type": "code",
   "execution_count": 31,
   "id": "69965642-36af-472f-b32c-27498f9ae867",
   "metadata": {},
   "outputs": [],
   "source": [
    "single_peak = Peak(14, 1024 * 8, 0.31, 0.255, lattice_constant,\n",
    "                   phase='fcc', backend = 'torch', stacking_or_twin_fault='twin', approximation_wilkens='polynomial')\n"
   ]
  },
  {
   "cell_type": "code",
   "execution_count": 32,
   "id": "bf7af006-8f4c-4a0b-94ab-425e2ebc1ba5",
   "metadata": {},
   "outputs": [],
   "source": [
    "num_spectra = int(1e3)\n",
    "num_peaks = 5"
   ]
  },
  {
   "cell_type": "code",
   "execution_count": 33,
   "id": "6c73913c-8e58-4390-baa7-f5b114e56401",
   "metadata": {},
   "outputs": [],
   "source": [
    "parameters = generate_spectra_in_domain(num_spectra, num_peaks, domains)"
   ]
  },
  {
   "cell_type": "code",
   "execution_count": 34,
   "id": "f4588955-e7aa-4347-9d9f-3fbb0f0f2f51",
   "metadata": {},
   "outputs": [
    {
     "name": "stdout",
     "output_type": "stream",
     "text": [
      "CPU times: user 20.9 s, sys: 3.78 s, total: 24.7 s\n",
      "Wall time: 3.26 s\n"
     ]
    }
   ],
   "source": [
    "%%time \n",
    "predicted_spectrum = generate_multiple_peaks(single_peak,\n",
    "                                        parameters['m'],\n",
    "                                        parameters['sigma'],\n",
    "                                        parameters['rho'],\n",
    "                                        parameters['Rstar'],\n",
    "                                        parameters['q'],\n",
    "                                        peak_intensities=parameters['intensity'],\n",
    "                                        planar_fault_probability=parameters['B'],\n",
    "                                       offset = parameters['offset'])"
   ]
  }
 ],
 "metadata": {
  "kernelspec": {
   "display_name": "Python 3 (ipykernel)",
   "language": "python",
   "name": "python3"
  },
  "language_info": {
   "codemirror_mode": {
    "name": "ipython",
    "version": 3
   },
   "file_extension": ".py",
   "mimetype": "text/x-python",
   "name": "python",
   "nbconvert_exporter": "python",
   "pygments_lexer": "ipython3",
   "version": "3.9.7"
  }
 },
 "nbformat": 4,
 "nbformat_minor": 5
}
