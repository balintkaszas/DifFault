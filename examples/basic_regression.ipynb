{
 "cells": [
  {
   "cell_type": "markdown",
   "id": "94168b51-ebd6-4e2b-aa83-59120649b3b1",
   "metadata": {},
   "source": [
    "# Determining parameters\n"
   ]
  },
  {
   "cell_type": "markdown",
   "id": "096c8c00-92a7-4d56-b762-d1ff27a53675",
   "metadata": {},
   "source": [
    "The Fourier transform of the convolutional line profile arising from planar faults, dislocations, and size effects can be evaluated as \n",
    "\n",
    "$$\n",
    "A_{hkl}(L) = A_S(L)A_D(L)A_F(L),\n",
    "$$\n",
    "\n",
    "where the variable $L$ is relted to $\\kappa$ through the Fourier-transform and $\\kappa$ is defined as\n",
    "\n",
    "$$\n",
    "\\kappa = \\frac{2\\sin \\theta}{\\lambda}.\n",
    "$$\n",
    "\n",
    "The profile can then be evaluated as \n",
    "\n",
    "$$\n",
    "I(\\kappa)_{hkl} = \\int_{-\\infty}^\\infty e^{2\\pi i \\kappa L}A_{hkl}(L)dL.\n",
    "$$\n",
    "\n",
    "The observed spectrum is a linear combination of these. We therefore have to sum over the Miller-indices as\n",
    "\n",
    "$$\n",
    "I(\\kappa) = \\sum_{h,k,l}I_{hkl}^{max}I(\\kappa-g_{hkl})_{hkl}.\n",
    "$$"
   ]
  },
  {
   "cell_type": "markdown",
   "id": "ba5cef8e-67ae-40d8-b20a-d3bdc504f4e6",
   "metadata": {},
   "source": [
    "Generally, we assume that the lattice constant $a$, the Burgers vector $b$, and $C_{h00}$ are known for the sample. Then, the parameters to be determined are\n",
    "\n",
    "- $\\rho$\n",
    "- $m$\n",
    "- $\\sigma$\n",
    "- $q$\n",
    "- $R^*$\n",
    "- $\\beta$ or $\\alpha$, the planar fault probability\n",
    "\n",
    "In addition, the peak locations and peak amplitudes are also to be determined."
   ]
  },
  {
   "cell_type": "code",
   "execution_count": 1,
   "id": "4e676518-3a7d-4e86-9fdb-332678bdf91f",
   "metadata": {},
   "outputs": [],
   "source": [
    "import numpy as np\n",
    "import torch\n",
    "import matplotlib.pyplot as plt\n",
    "from matplotlib import rc\n",
    "rc('font',**{'family':'sans-serif','sans-serif':['Helvetica']})\n",
    "rc('text', usetex=True)"
   ]
  },
  {
   "cell_type": "code",
   "execution_count": 2,
   "id": "8af13d8d-d082-4d5b-9411-881c5bb377ea",
   "metadata": {},
   "outputs": [],
   "source": [
    "import matplotlib"
   ]
  },
  {
   "cell_type": "code",
   "execution_count": 3,
   "id": "94fdb982-39e7-4cfe-9241-9adf4bd46b57",
   "metadata": {},
   "outputs": [],
   "source": [
    "%load_ext autoreload\n",
    "%autoreload 2\n",
    "%aimport  cmwp_profiles"
   ]
  },
  {
   "cell_type": "code",
   "execution_count": 4,
   "id": "a0bc2574-1051-4a52-8000-7fcdb4916b36",
   "metadata": {},
   "outputs": [],
   "source": [
    "from cmwp_profiles.peak_shapes import Peak, generate_multiple_peaks\n"
   ]
  },
  {
   "cell_type": "code",
   "execution_count": 5,
   "id": "13ae7ee1-2d2b-4880-a75e-9add1d9d7d13",
   "metadata": {},
   "outputs": [],
   "source": [
    "N = 1024 * 8 \n"
   ]
  },
  {
   "cell_type": "markdown",
   "id": "d9a78577-4845-4147-b1db-11032190f741",
   "metadata": {},
   "source": [
    "Here we initialize a Peak object\n",
    "\n",
    "with the following properties.\n",
    "\n",
    "$$a =0.36, b =0.255, C_{h00}=0.1. $$\n",
    "\n",
    "\n",
    "The computational domain will correspond to $\\kappa \\in [0, \\kappa_{max}]$ with $\\kappa_{max}=14$. "
   ]
  },
  {
   "cell_type": "code",
   "execution_count": 6,
   "id": "1891edd9-91bd-436c-b85b-b806515b7cdd",
   "metadata": {},
   "outputs": [],
   "source": [
    "lattice_constant = 0.36\n",
    "\n"
   ]
  },
  {
   "cell_type": "markdown",
   "id": "009f36db-e726-4c96-a32d-0e5d2b89071c",
   "metadata": {},
   "source": [
    "Let us also fix the following parameters\n",
    "\n",
    "$$\n",
    "\\rho = 0.01, m = 10, R^* = 60, \\sigma = 0.001,  q=2, B = 0.05\n",
    "$$\n"
   ]
  },
  {
   "cell_type": "code",
   "execution_count": 7,
   "id": "682e80d2-e214-40f0-8ddb-e4270b2ba4a0",
   "metadata": {},
   "outputs": [],
   "source": [
    "rho_true = 0.01\n",
    "m_true = 20\n",
    "Rstar_true = 5\n",
    "sigma_true = 0.1\n",
    "q_true = 3\n",
    "B_true = 0.05"
   ]
  },
  {
   "cell_type": "markdown",
   "id": "2ed0b74c-80a7-4cb4-b64a-c6d773388e23",
   "metadata": {},
   "source": [
    "Assuming an FCC lattice, we'll simulate a spectrum corresponding to the first 5 peaks."
   ]
  },
  {
   "cell_type": "code",
   "execution_count": 8,
   "id": "10e6f2b3-55d1-49bf-a092-a28860a55fdc",
   "metadata": {},
   "outputs": [],
   "source": [
    "np.random.seed(4)\n",
    "intensities = np.random.rand(5,1)\n",
    "offsets = (np.random.rand(5,1) -0.5) * 1e-3\n"
   ]
  },
  {
   "cell_type": "code",
   "execution_count": 9,
   "id": "c5e3763b-9561-4002-9b06-80ddaacc9bea",
   "metadata": {},
   "outputs": [],
   "source": [
    "h, k, l = 2, 0, 0\n",
    "kappa_max = 14\n",
    "N_fourier = 8192\n",
    "lattice_constant = 0.36\n",
    "burgers_vector = 0.255\n",
    "Ch00 = 0.36\n",
    "single_peak = Peak(kappa_max,\n",
    "                    N_fourier, \n",
    "                    Ch00, \n",
    "                    burgers_vector,\n",
    "                      lattice_constant, \n",
    "                      stacking_or_twin_fault='stacking',\n",
    "                        approximation_wilkens='polynomial')\n"
   ]
  },
  {
   "cell_type": "code",
   "execution_count": 10,
   "id": "0ccf928a-af23-4699-8fcf-50575674f865",
   "metadata": {},
   "outputs": [
    {
     "ename": "TypeError",
     "evalue": "generate_multiple_peaks() got multiple values for argument 'peak_intensities'",
     "output_type": "error",
     "traceback": [
      "\u001b[0;31m---------------------------------------------------------------------------\u001b[0m",
      "\u001b[0;31mTypeError\u001b[0m                                 Traceback (most recent call last)",
      "\u001b[0;32m/var/folders/sc/g850kkhs2zv9ndc20ntwgf540000gn/T/ipykernel_71315/4118370855.py\u001b[0m in \u001b[0;36m<module>\u001b[0;34m\u001b[0m\n\u001b[0;32m----> 1\u001b[0;31m true_spectrum = generate_multiple_peaks(single_peak,\n\u001b[0m\u001b[1;32m      2\u001b[0m                                         \u001b[0mm_true\u001b[0m\u001b[0;34m,\u001b[0m\u001b[0;34m\u001b[0m\u001b[0;34m\u001b[0m\u001b[0m\n\u001b[1;32m      3\u001b[0m                                         \u001b[0msigma_true\u001b[0m\u001b[0;34m,\u001b[0m\u001b[0;34m\u001b[0m\u001b[0;34m\u001b[0m\u001b[0m\n\u001b[1;32m      4\u001b[0m                                         \u001b[0mB_true\u001b[0m\u001b[0;34m,\u001b[0m\u001b[0;34m\u001b[0m\u001b[0;34m\u001b[0m\u001b[0m\n\u001b[1;32m      5\u001b[0m                                         \u001b[0mrho_true\u001b[0m\u001b[0;34m,\u001b[0m\u001b[0;34m\u001b[0m\u001b[0;34m\u001b[0m\u001b[0m\n",
      "\u001b[0;31mTypeError\u001b[0m: generate_multiple_peaks() got multiple values for argument 'peak_intensities'"
     ]
    }
   ],
   "source": [
    "true_spectrum = generate_multiple_peaks(single_peak,\n",
    "                                        m_true,\n",
    "                                        sigma_true,\n",
    "                                        rho_true,\n",
    "                                        B_true,\n",
    "                                        Rstar_true,\n",
    "                                        q_true,\n",
    "                                        peak_intensities=intensities,\n",
    "                                       offset=offsets)"
   ]
  },
  {
   "cell_type": "code",
   "execution_count": 451,
   "id": "e0a680d8-3b11-4304-ba77-609f0d96f20b",
   "metadata": {},
   "outputs": [
    {
     "data": {
      "text/plain": [
       "[<matplotlib.lines.Line2D at 0x7f96315f6310>]"
      ]
     },
     "execution_count": 451,
     "metadata": {},
     "output_type": "execute_result"
    },
    {
     "data": {
      "image/png": "[encoded data removed]",
      "text/plain": [
       "<Figure size 432x288 with 1 Axes>"
      ]
     },
     "metadata": {
      "needs_background": "light"
     },
     "output_type": "display_data"
    }
   ],
   "source": [
    "plt.plot(single_peak.positive_diffraction_vectors, true_spectrum)"
   ]
  },
  {
   "cell_type": "markdown",
   "id": "8eed627a-98e7-467d-9039-087e83bb1c97",
   "metadata": {},
   "source": [
    "Let us set up a loss function for the optimization. Combine all variables into a single vector first."
   ]
  },
  {
   "cell_type": "code",
   "execution_count": 452,
   "id": "e6e9a382-efec-48ba-87f6-f2c632a275d4",
   "metadata": {},
   "outputs": [],
   "source": [
    "def unpack_x(x):\n",
    "    m, sigma, B, rho, Rstar, q = x[:6]\n",
    "    intensity = x[6:11].reshape(-1,1)\n",
    "    offset = x[11:].reshape(-1,1)\n",
    "    return m, sigma, B, rho, Rstar, q, intensity, offset"
   ]
  },
  {
   "cell_type": "code",
   "execution_count": 453,
   "id": "6d40fc1c-42a5-4371-b01b-d115b09d71d4",
   "metadata": {},
   "outputs": [],
   "source": [
    "def loss(x):\n",
    "    m, sigma, B, rho, Rstar, q = x[:6]\n",
    "    intensity = x[6:11].reshape(-1,1)\n",
    "    offset = x[11:].reshape(-1,1)\n",
    "    spectrum = generate_multiple_peaks(single_peak,\n",
    "                                        m,\n",
    "                                        sigma,\n",
    "                                        B,\n",
    "                                        rho,\n",
    "                                        Rstar,\n",
    "                                        q,\n",
    "                                        peak_intensities=intensity,\n",
    "                                       offset=offset)\n",
    "    return np.ravel(true_spectrum - spectrum)"
   ]
  },
  {
   "cell_type": "code",
   "execution_count": 454,
   "id": "7e96cf1c-c71a-4448-8f97-653e8e7ecc99",
   "metadata": {},
   "outputs": [],
   "source": [
    "true_x = np.concatenate(([m_true, sigma_true, B_true, rho_true, Rstar_true, q_true], *intensities, *offsets))"
   ]
  },
  {
   "cell_type": "code",
   "execution_count": 455,
   "id": "435bf1c9-79fc-4f3e-80d9-bfde9ef459d7",
   "metadata": {},
   "outputs": [],
   "source": [
    "from scipy.optimize import least_squares"
   ]
  },
  {
   "cell_type": "code",
   "execution_count": 456,
   "id": "60f07028-cdde-46e1-8347-3a2105e6cd32",
   "metadata": {},
   "outputs": [],
   "source": [
    "np.random.seed(3)\n",
    "x_0 = true_x + (np.random.rand(16)*0.05)"
   ]
  },
  {
   "cell_type": "code",
   "execution_count": 457,
   "id": "7508713c-ca3d-4368-8a5b-8e9691909043",
   "metadata": {},
   "outputs": [
    {
     "name": "stderr",
     "output_type": "stream",
     "text": [
      "/Users/balintkaszas/temp/CMWP_ML/cmwp_profiles/cmwp_profiles/math_backend.py:127: RuntimeWarning: invalid value encountered in log\n",
      "  return np.log(x)\n",
      "/Users/balintkaszas/temp/CMWP_ML/cmwp_profiles/cmwp_profiles/math_backend.py:104: RuntimeWarning: invalid value encountered in sqrt\n",
      "  return np.sqrt(x)\n",
      "/Users/balintkaszas/temp/CMWP_ML/cmwp_profiles/cmwp_profiles/math_backend.py:139: RuntimeWarning: invalid value encountered in arcsin\n",
      "  return np.arcsin(x)\n",
      "\n",
      "KeyboardInterrupt\n",
      "\n"
     ]
    }
   ],
   "source": [
    "res = least_squares(loss, x_0)"
   ]
  },
  {
   "cell_type": "code",
   "execution_count": null,
   "id": "53412d5e-fd83-435c-b877-d2ad04e65c61",
   "metadata": {},
   "outputs": [],
   "source": [
    "m, sigma, B, rho, Rstar, q, intensity, offset = unpack_x(res.x)"
   ]
  },
  {
   "cell_type": "code",
   "execution_count": null,
   "id": "67e886b2-f4a7-44e8-b9eb-f3f6606ad928",
   "metadata": {},
   "outputs": [],
   "source": [
    "predicted_spectrum = generate_multiple_peaks(single_peak,\n",
    "                                        m,\n",
    "                                        sigma,\n",
    "                                        B,\n",
    "                                        rho,\n",
    "                                        Rstar,\n",
    "                                        q,\n",
    "                                        peak_intensities=intensity,\n",
    "                                       offset = offset)"
   ]
  },
  {
   "cell_type": "code",
   "execution_count": null,
   "id": "eb3cd2f7-936f-4e2f-b89f-043fb988f3db",
   "metadata": {},
   "outputs": [],
   "source": [
    "plt.plot(single_peak.positive_diffraction_vectors, true_spectrum, label = 'True spectrum')\n",
    "plt.plot(single_peak.positive_diffraction_vectors, predicted_spectrum, label = 'With identified parameters')\n",
    "plt.legend()\n",
    "plt.xlabel('$\\\\kappa$')\n",
    "plt.ylabel('Intensity')\n"
   ]
  },
  {
   "cell_type": "code",
   "execution_count": null,
   "id": "4ec97367-c5a7-471b-a0ad-ae88b4c08cca",
   "metadata": {},
   "outputs": [],
   "source": [
    "plt.semilogy(single_peak.positive_diffraction_vectors, np.abs(true_spectrum-predicted_spectrum), c='black')\n",
    "plt.xlabel('$\\\\kappa$')\n",
    "plt.ylabel('Error')\n"
   ]
  },
  {
   "cell_type": "markdown",
   "id": "da300e55-c944-4876-b530-4ea5cc587730",
   "metadata": {},
   "source": [
    "## Generate multiple spectra at once"
   ]
  },
  {
   "cell_type": "code",
   "execution_count": 741,
   "id": "02b41b74-20fb-4372-a95c-7a00f79dcf4f",
   "metadata": {},
   "outputs": [],
   "source": [
    "domains = {'B': [0, 0.05],\n",
    "           'm': [5., 100.],\n",
    "           'sigma': [0.1, 1.],\n",
    "           'rho': [0.0005, 0.05],\n",
    "           'Rstar' : [2., 100.],\n",
    "           'q' : [1.5, 2.3],\n",
    "           'offset' : [-0.05, 0.05],\n",
    "           'intensity' : [0, 1]\n",
    "          }\n",
    "\n",
    "def generate_spectra_in_domain(num_spectra, num_peaks, domains, seed = 0):\n",
    "    torch.manual_seed(seed)\n",
    "    params = {}\n",
    "    \n",
    "    params['m'] = (domains['m'][1] - domains['m'][0]) * torch.rand(1, num_spectra) + domains['m'][0]\n",
    "    params['sigma'] = (domains['sigma'][1] - domains['sigma'][0]) * torch.rand(1, num_spectra) + domains['sigma'][0]\n",
    "    params['B'] = (domains['B'][1] - domains['B'][0]) * torch.rand(1, num_spectra) + domains['B'][0]\n",
    "    params['rho'] = (domains['rho'][1] - domains['rho'][0]) * torch.rand(1, num_spectra) + domains['rho'][0]\n",
    "    params['Rstar'] = (domains['Rstar'][1] - domains['Rstar'][0]) * torch.rand(1, num_spectra) + domains['Rstar'][0]\n",
    "    params['q'] = (domains['q'][1] - domains['q'][0]) * torch.rand(1, num_spectra) + domains['q'][0]\n",
    "    params['intensity'] = (domains['intensity'][1] - domains['intensity'][0]) * torch.rand(num_peaks, num_spectra) + domains['intensity'][0]\n",
    "    params['offset'] = (domains['offset'][1] - domains['offset'][0]) * torch.rand(num_peaks, num_spectra) + domains['offset'][0]\n",
    "    return params\n",
    "    \n",
    "        \n",
    "\n",
    "    "
   ]
  },
  {
   "cell_type": "code",
   "execution_count": 748,
   "id": "69965642-36af-472f-b32c-27498f9ae867",
   "metadata": {},
   "outputs": [],
   "source": [
    "single_peak = Peak(14, 1024 * 8, 0.31, 0.255, lattice_constant,\n",
    "                   phase='fcc', backend = 'torch',use_reduced_rho=True, stacking_or_twin_fault='twin', approximation_wilkens='polynomial')\n"
   ]
  },
  {
   "cell_type": "code",
   "execution_count": 749,
   "id": "bf7af006-8f4c-4a0b-94ab-425e2ebc1ba5",
   "metadata": {},
   "outputs": [],
   "source": [
    "num_spectra = int(1e3)\n",
    "num_peaks = 5"
   ]
  },
  {
   "cell_type": "code",
   "execution_count": 750,
   "id": "6c73913c-8e58-4390-baa7-f5b114e56401",
   "metadata": {},
   "outputs": [],
   "source": [
    "parameters = generate_spectra_in_domain(num_spectra, num_peaks, domains)"
   ]
  },
  {
   "cell_type": "code",
   "execution_count": 751,
   "id": "f4588955-e7aa-4347-9d9f-3fbb0f0f2f51",
   "metadata": {},
   "outputs": [
    {
     "name": "stdout",
     "output_type": "stream",
     "text": [
      "CPU times: user 25.9 s, sys: 4.35 s, total: 30.2 s\n",
      "Wall time: 3.71 s\n"
     ]
    }
   ],
   "source": [
    "%%time \n",
    "predicted_spectrum = generate_multiple_peaks(single_peak,\n",
    "                                        parameters['m'],\n",
    "                                        parameters['sigma'],\n",
    "                                        parameters['rho'],\n",
    "                                        parameters['Rstar'],\n",
    "                                        parameters['q'],\n",
    "                                        peak_intensities=parameters['intensity'],\n",
    "                                             planar_fault_probability=parameters['B'],\n",
    "                                       offset = parameters['offset'])"
   ]
  },
  {
   "cell_type": "code",
   "execution_count": 752,
   "id": "804a922e-0d07-4c8e-bd8f-05c3b8c6a09d",
   "metadata": {},
   "outputs": [
    {
     "name": "stdout",
     "output_type": "stream",
     "text": [
      "2.0.0\n"
     ]
    }
   ],
   "source": [
    "print(torch.__version__)"
   ]
  },
  {
   "cell_type": "markdown",
   "id": "597f6155-e618-45d1-8f57-c2ae706d0356",
   "metadata": {},
   "source": [
    "### Generating benchmark spectra"
   ]
  },
  {
   "cell_type": "code",
   "execution_count": 718,
   "id": "12d89004-ada1-4e10-b823-0b6d0789bb82",
   "metadata": {},
   "outputs": [
    {
     "name": "stderr",
     "output_type": "stream",
     "text": [
      "python(38167) MallocStackLogging: can't turn off malloc stack logging because it was not enabled.\n"
     ]
    }
   ],
   "source": [
    "!mkdir benchmark_spectra"
   ]
  },
  {
   "cell_type": "markdown",
   "id": "546117da-f86d-450c-8ca2-8a7d7c4d2191",
   "metadata": {},
   "source": [
    "### BCC material\n",
    "\n",
    "We construct a synthetic spectrum of an iron sample with large crystallite size."
   ]
  },
  {
   "cell_type": "markdown",
   "id": "b99f81a6-3a6c-41f6-ab6a-49e9688e095d",
   "metadata": {},
   "source": [
    "$a = 0.286$\n",
    "\n",
    "$b = 0.248$    \n",
    "\n",
    "$m = 50$\n",
    "\n",
    "$\\sigma = 0.3$\n",
    "\n",
    "$\\rho = 0.005$\n",
    "\n",
    "$q = 1.28$\n",
    "\n",
    "$R^* = 20$\n",
    "\n",
    "$C_{h00} = 0.2548$"
   ]
  },
  {
   "cell_type": "code",
   "execution_count": 714,
   "id": "a887927d-f15e-4c09-b826-8221a79c1e59",
   "metadata": {},
   "outputs": [],
   "source": [
    "np.random.seed(3)\n",
    "iron_sample = {}\n",
    "iron_sample['Ch00'] = 0.2548\n",
    "iron_sample['lattice_constant'] = 0.286\n",
    "iron_sample['b'] = 0.248\n",
    "iron_sample['m'] = 50\n",
    "iron_sample['sigma'] = 0.3\n",
    "iron_sample['rho'] = 0.005\n",
    "iron_sample['q'] = 1.28\n",
    "iron_sample['Rstar'] = 20\n",
    "iron_sample['intensities'] = np.random.rand(5, 1)\n",
    "\n",
    "\n",
    "\n",
    "\n",
    "\n",
    "\n",
    "\n"
   ]
  },
  {
   "cell_type": "code",
   "execution_count": 715,
   "id": "4160def0-0ff4-4e59-ba47-72cb542f2c8e",
   "metadata": {},
   "outputs": [],
   "source": [
    "single_peak_iron = Peak(14, 1024 * 8, iron_sample['Ch00'], iron_sample['b'], iron_sample['lattice_constant'],\n",
    "                   phase='bcc', backend = 'numpy', approximation_wilkens='polynomial')\n"
   ]
  },
  {
   "cell_type": "code",
   "execution_count": 716,
   "id": "be73ccc4-4410-45e6-9b98-f293b8b6dd91",
   "metadata": {},
   "outputs": [
    {
     "name": "stdout",
     "output_type": "stream",
     "text": [
      "CPU times: user 31 ms, sys: 66.1 ms, total: 97.1 ms\n",
      "Wall time: 14.2 ms\n"
     ]
    }
   ],
   "source": [
    "%%time \n",
    "predicted_spectrum_iron = generate_multiple_peaks(single_peak_iron,\n",
    "                                        iron_sample['m'],\n",
    "                                        iron_sample['sigma'],\n",
    "                                        None,\n",
    "                                        iron_sample['rho'],\n",
    "                                        iron_sample['Rstar'],\n",
    "                                        iron_sample['q'],\n",
    "                                        peak_intensities = iron_sample['intensities'])"
   ]
  },
  {
   "cell_type": "code",
   "execution_count": 717,
   "id": "5cf2f931-3deb-4ec9-b594-e601800f4049",
   "metadata": {},
   "outputs": [
    {
     "data": {
      "text/plain": [
       "Text(0, 0.5, 'Intensity')"
      ]
     },
     "execution_count": 717,
     "metadata": {},
     "output_type": "execute_result"
    },
    {
     "data": {
      "image/png": "[encoded data removed]",
      "text/plain": [
       "<Figure size 432x288 with 1 Axes>"
      ]
     },
     "metadata": {
      "needs_background": "light"
     },
     "output_type": "display_data"
    }
   ],
   "source": [
    "plt.plot(single_peak_iron.positive_diffraction_vectors, predicted_spectrum_iron)\n",
    "plt.xlabel('$\\\\kappa$')\n",
    "plt.ylabel('Intensity')\n"
   ]
  },
  {
   "cell_type": "code",
   "execution_count": 721,
   "id": "c27d4657-c5d0-4161-bc59-ed0d39190d67",
   "metadata": {},
   "outputs": [],
   "source": [
    "np.savetxt('benchmark_spectra/BCC_iron.dat', np.vstack((single_peak_iron.positive_diffraction_vectors,\n",
    "                                                        predicted_spectrum_iron.ravel())).T)"
   ]
  },
  {
   "cell_type": "markdown",
   "id": "0a998f98-97a4-4fb7-82d0-15c879300467",
   "metadata": {},
   "source": [
    "### FCC material\n",
    "\n",
    "Copper \n",
    "\n",
    "$a = 0.361$\n",
    "\n",
    "$b = 0.255$    \n",
    "\n",
    "$m = 20$\n",
    "\n",
    "$\\sigma = 0.3$\n",
    "\n",
    "$\\rho = 0.01$\n",
    "\n",
    "$q = 2.33$\n",
    "\n",
    "$B = 0.03$\n",
    "\n",
    "$R^* = 8$\n",
    "\n",
    "$C_{h00} = 0.3029$"
   ]
  },
  {
   "cell_type": "code",
   "execution_count": 722,
   "id": "09d71323-d284-40da-9791-690aa514d762",
   "metadata": {},
   "outputs": [],
   "source": [
    "np.random.seed(3)\n",
    "copper_sample_1 = {}\n",
    "copper_sample_1['Ch00'] = 0.3029\n",
    "copper_sample_1['lattice_constant'] = 0.361\n",
    "copper_sample_1['b'] = 0.255\n",
    "copper_sample_1['m'] = 20\n",
    "copper_sample_1['sigma'] = 0.3\n",
    "copper_sample_1['rho'] = 0.01\n",
    "copper_sample_1['q'] = 2.33\n",
    "copper_sample_1['B'] = 0.03\n",
    "copper_sample_1['Rstar'] = 8\n",
    "copper_sample_1['intensities'] = np.random.rand(5, 1)\n"
   ]
  },
  {
   "cell_type": "code",
   "execution_count": 723,
   "id": "da35d66c-20e9-4a8c-90c4-a8a5531d3904",
   "metadata": {},
   "outputs": [],
   "source": [
    "single_peak_copper_1 = Peak(14, 1024 * 8, copper_sample_1['Ch00'], copper_sample_1['b'], copper_sample_1['lattice_constant'],\n",
    "                   phase='fcc', backend = 'numpy', stacking_or_twin_fault='twin', approximation_wilkens='polynomial')\n"
   ]
  },
  {
   "cell_type": "code",
   "execution_count": 724,
   "id": "ace2d727-0d11-41e3-ba55-b02df5c86356",
   "metadata": {},
   "outputs": [],
   "source": [
    "predicted_spectrum_copper_1 = generate_multiple_peaks(single_peak_copper_1,\n",
    "                                        copper_sample_1['m'],\n",
    "                                        copper_sample_1['sigma'],\n",
    "                                        copper_sample_1['B'],\n",
    "                                        copper_sample_1['rho'],\n",
    "                                        copper_sample_1['Rstar'],\n",
    "                                        copper_sample_1['q'],\n",
    "                                        peak_intensities = copper_sample_1['intensities'])"
   ]
  },
  {
   "cell_type": "code",
   "execution_count": 725,
   "id": "5c4d470e-163a-4594-94c0-f12014bbb9e3",
   "metadata": {},
   "outputs": [
    {
     "data": {
      "text/plain": [
       "Text(0, 0.5, 'Intensity')"
      ]
     },
     "execution_count": 725,
     "metadata": {},
     "output_type": "execute_result"
    },
    {
     "data": {
      "image/png": "[encoded data removed]",
      "text/plain": [
       "<Figure size 432x288 with 1 Axes>"
      ]
     },
     "metadata": {
      "needs_background": "light"
     },
     "output_type": "display_data"
    }
   ],
   "source": [
    "plt.plot(single_peak_copper_1.positive_diffraction_vectors, predicted_spectrum_copper_1)\n",
    "plt.xlabel('$\\\\kappa$')\n",
    "plt.ylabel('Intensity')\n"
   ]
  },
  {
   "cell_type": "code",
   "execution_count": 726,
   "id": "72ac33a7-068c-4555-a09d-2acfdfbbfd96",
   "metadata": {},
   "outputs": [],
   "source": [
    "np.savetxt('benchmark_spectra/FCC_copper_twin.dat', np.vstack((single_peak_copper_1.positive_diffraction_vectors,\n",
    "                                                        predicted_spectrum_copper_1.ravel())).T)"
   ]
  },
  {
   "cell_type": "markdown",
   "id": "aeb10cda-7513-460f-9553-148b2618af68",
   "metadata": {},
   "source": [
    "### FCC material\n",
    "\n",
    "Copper \n",
    "\n",
    "$a = 0.361$\n",
    "\n",
    "$b = 0.255$    \n",
    "\n",
    "$m = 20$\n",
    "\n",
    "$\\sigma = 0.3$\n",
    "\n",
    "$\\rho = 0.01$\n",
    "\n",
    "$q = 2.33$\n",
    "\n",
    "$A = 0.03$\n",
    "\n",
    "$R^* = 8$\n",
    "\n",
    "$C_{h00} = 0.3029$\n",
    "\n"
   ]
  },
  {
   "cell_type": "code",
   "execution_count": 733,
   "id": "a70b62b6-c878-4d13-a2d8-d0360a29ff6c",
   "metadata": {},
   "outputs": [],
   "source": [
    "np.random.seed(3)\n",
    "copper_sample_2 = {}\n",
    "copper_sample_2['Ch00'] = 0.3029\n",
    "copper_sample_2['lattice_constant'] = 0.361\n",
    "copper_sample_2['b'] = 0.255\n",
    "copper_sample_2['m'] = 20\n",
    "copper_sample_2['sigma'] = 0.3\n",
    "copper_sample_2['rho'] = 0.01\n",
    "copper_sample_2['q'] = 2.33\n",
    "copper_sample_2['A'] = 0.03\n",
    "copper_sample_2['Rstar'] = 8\n",
    "copper_sample_2['intensities'] = np.random.rand(5, 1)\n"
   ]
  },
  {
   "cell_type": "code",
   "execution_count": 734,
   "id": "32e7bf65-4fff-4642-9cb8-8aae9a3454c0",
   "metadata": {},
   "outputs": [],
   "source": [
    "single_peak_copper_2 = Peak(14, 1024 * 8, copper_sample_1['Ch00'], copper_sample_1['b'], copper_sample_1['lattice_constant'],\n",
    "                   phase='fcc', backend = 'numpy', stacking_or_twin_fault='stacking', approximation_wilkens='polynomial')\n"
   ]
  },
  {
   "cell_type": "code",
   "execution_count": 735,
   "id": "060d34d0-32be-46f7-ba5b-3281b804d7fe",
   "metadata": {},
   "outputs": [],
   "source": [
    "predicted_spectrum_copper_2 = generate_multiple_peaks(single_peak_copper_2,\n",
    "                                        copper_sample_2['m'],\n",
    "                                        copper_sample_2['sigma'],\n",
    "                                        copper_sample_2['A'],\n",
    "                                        copper_sample_2['rho'],\n",
    "                                        copper_sample_2['Rstar'],\n",
    "                                        copper_sample_2['q'],\n",
    "                                        peak_intensities = copper_sample_2['intensities'], intrinsic_or_extrinsic='intrinsic')"
   ]
  },
  {
   "cell_type": "code",
   "execution_count": 736,
   "id": "387aa1e0-013b-4e76-8c6a-1e657633ea05",
   "metadata": {},
   "outputs": [],
   "source": [
    "predicted_spectrum_copper_3 = generate_multiple_peaks(single_peak_copper_2,\n",
    "                                        copper_sample_2['m'],\n",
    "                                        copper_sample_2['sigma'],\n",
    "                                        copper_sample_2['A'],\n",
    "                                        copper_sample_2['rho'],\n",
    "                                        copper_sample_2['Rstar'],\n",
    "                                        copper_sample_2['q'],\n",
    "                                        peak_intensities = copper_sample_2['intensities'], intrinsic_or_extrinsic='extrinsic')"
   ]
  },
  {
   "cell_type": "code",
   "execution_count": 738,
   "id": "5a706ede-74cd-4efc-97ca-730b49aea798",
   "metadata": {},
   "outputs": [
    {
     "data": {
      "text/plain": [
       "Text(0, 0.5, 'Intensity')"
      ]
     },
     "execution_count": 738,
     "metadata": {},
     "output_type": "execute_result"
    },
    {
     "data": {
      "image/png": "[encoded data removed]",
      "text/plain": [
       "<Figure size 432x288 with 1 Axes>"
      ]
     },
     "metadata": {
      "needs_background": "light"
     },
     "output_type": "display_data"
    }
   ],
   "source": [
    "plt.plot(single_peak_copper_2.positive_diffraction_vectors, predicted_spectrum_copper_2)\n",
    "plt.plot(single_peak_copper_2.positive_diffraction_vectors, predicted_spectrum_copper_3)\n",
    "\n",
    "plt.xlabel('$\\\\kappa$')\n",
    "plt.ylabel('Intensity')\n",
    "#plt.xlim(10, 11.5)\n",
    "#plt.ylim(0, 0.55)"
   ]
  },
  {
   "cell_type": "code",
   "execution_count": 740,
   "id": "6af0f691-cdb9-4ffb-ac42-cd3a5030782d",
   "metadata": {},
   "outputs": [],
   "source": [
    "np.savetxt('benchmark_spectra/FCC_copper_stacking_intrinsic.dat', np.vstack((single_peak_copper_2.positive_diffraction_vectors,\n",
    "                                                        predicted_spectrum_copper_2.ravel())).T)\n",
    "np.savetxt('benchmark_spectra/FCC_copper_stacking_extrinsic.dat', np.vstack((single_peak_copper_2.positive_diffraction_vectors,\n",
    "                                                        predicted_spectrum_copper_3.ravel())).T)"
   ]
  },
  {
   "cell_type": "code",
   "execution_count": 669,
   "id": "8d6019c4-80f7-46cb-a25c-89fbcb13ddeb",
   "metadata": {},
   "outputs": [],
   "source": [
    "lengthOfFrame = 2 * single_peak_copper_2.max_range_diffraction_vector\n",
    "\n",
    "L = single_peak_copper_2.math.fftfreq(single_peak_copper_2.Nfourier, \n",
    "                                            lengthOfFrame / single_peak_copper_2.Nfourier).reshape(-1, 1) + 1e-7\n",
    "N = len(L)\n",
    "dell = L[1,:] - L[0,:]\n",
    "factor = dell * N # normalization factor for the Fourier transform"
   ]
  },
  {
   "cell_type": "code",
   "execution_count": 670,
   "id": "f5320ace-7194-42f3-acee-6d85d750a965",
   "metadata": {},
   "outputs": [],
   "source": [
    "h, k, l = 3, 1, 1"
   ]
  },
  {
   "cell_type": "code",
   "execution_count": 671,
   "id": "a7ac8fdf-fe04-4b0a-a357-55a4cd918e98",
   "metadata": {},
   "outputs": [],
   "source": [
    "g = h**2 + k**2 + l**2"
   ]
  },
  {
   "cell_type": "code",
   "execution_count": 681,
   "id": "1ddc8ec9-ebab-4070-b8a5-0413f8976ea5",
   "metadata": {},
   "outputs": [],
   "source": [
    "diagnostic, peak_3 = single_peak_copper_2.generate_convolutional_profile(L,\n",
    "                                        copper_sample_2['m'],\n",
    "                                        copper_sample_2['sigma'],\n",
    "                                        0.3,\n",
    "                                        copper_sample_2['rho'],\n",
    "                                        copper_sample_2['Rstar'],\n",
    "                                        copper_sample_2['q'], g, h, k, l, intrinsic_or_extrinsic='extrinsic')"
   ]
  },
  {
   "cell_type": "code",
   "execution_count": 683,
   "id": "354e17ea-a1f3-4ed0-a69a-e04d105e4c69",
   "metadata": {},
   "outputs": [],
   "source": [
    "ss = 0\n",
    "for d in diagnostic[:-1]:\n",
    "    ss += d['coeff']"
   ]
  },
  {
   "cell_type": "code",
   "execution_count": 706,
   "id": "b24253bc-ccc7-49b8-a104-afc00b29aea5",
   "metadata": {},
   "outputs": [],
   "source": [
    "subrefs = [np.fft.ifftshift(np.fft.ifft(d['coeff'], axis = 0 ), axes = 0) for d in diagnostic[:-1]]"
   ]
  },
  {
   "cell_type": "code",
   "execution_count": 713,
   "id": "be7a2674-357c-4fa3-b053-412eafba3793",
   "metadata": {},
   "outputs": [
    {
     "data": {
      "image/png": "[encoded data removed]",
      "text/plain": [
       "<Figure size 432x288 with 1 Axes>"
      ]
     },
     "metadata": {
      "needs_background": "light"
     },
     "output_type": "display_data"
    }
   ],
   "source": [
    "for i,s in enumerate(subrefs):\n",
    "    plt.plot(single_peak_copper_2.diffraction_vectors, np.abs(s)/np.max(np.abs(s)),  '-', label = diagnostic[i]['subreflection'],)\n",
    "plt.legend()\n",
    "plt.xlim(-0.5, 1.5)\n",
    "plt.grid()"
   ]
  },
  {
   "cell_type": "code",
   "execution_count": 703,
   "id": "6d36d0d7-3718-4f0f-b974-2a9f7ec52327",
   "metadata": {},
   "outputs": [
    {
     "data": {
      "text/plain": [
       "<matplotlib.legend.Legend at 0x7f9631829bb0>"
      ]
     },
     "execution_count": 703,
     "metadata": {},
     "output_type": "execute_result"
    },
    {
     "data": {
      "image/png": "[encoded data removed]",
      "text/plain": [
       "<Figure size 432x288 with 1 Axes>"
      ]
     },
     "metadata": {
      "needs_background": "light"
     },
     "output_type": "display_data"
    }
   ],
   "source": [
    "for i,s in enumerate(subrefs):\n",
    "    plt.plot(single_peak_copper_2.diffraction_vectors, np.abs(s), label = diagnostic[i]['subreflection'])\n",
    "plt.plot(single_peak_copper_2.diffraction_vectors, np.abs(ss12),  c= 'black')\n",
    "plt.legend()\n",
    "#plt.xlim(-0.6, 0.6)"
   ]
  },
  {
   "cell_type": "code",
   "execution_count": null,
   "id": "998620a0-45c0-4209-9849-ded5a23a6732",
   "metadata": {},
   "outputs": [],
   "source": []
  },
  {
   "cell_type": "code",
   "execution_count": 680,
   "id": "5df4600a-a1e1-4f72-a0a1-decc6b3ab417",
   "metadata": {},
   "outputs": [
    {
     "data": {
      "text/plain": [
       "(-0.6, 0.6)"
      ]
     },
     "execution_count": 680,
     "metadata": {},
     "output_type": "execute_result"
    },
    {
     "data": {
      "image/png": "[encoded data removed]",
      "text/plain": [
       "<Figure size 432x288 with 1 Axes>"
      ]
     },
     "metadata": {
      "needs_background": "light"
     },
     "output_type": "display_data"
    }
   ],
   "source": [
    "plt.plot(single_peak_copper_2.diffraction_vectors,peak_3)\n",
    "plt.xlim(-0.6, 0.6)"
   ]
  }
 ],
 "metadata": {
  "kernelspec": {
   "display_name": "Python 3 (ipykernel)",
   "language": "python",
   "name": "python3"
  },
  "language_info": {
   "codemirror_mode": {
    "name": "ipython",
    "version": 3
   },
   "file_extension": ".py",
   "mimetype": "text/x-python",
   "name": "python",
   "nbconvert_exporter": "python",
   "pygments_lexer": "ipython3",
   "version": "3.9.7"
  }
 },
 "nbformat": 4,
 "nbformat_minor": 5
}
