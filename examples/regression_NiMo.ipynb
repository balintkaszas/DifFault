{
 "cells": [
  {
   "cell_type": "markdown",
   "id": "94168b51-ebd6-4e2b-aa83-59120649b3b1",
   "metadata": {},
   "source": [
    "# Determining parameters\n"
   ]
  },
  {
   "cell_type": "markdown",
   "id": "096c8c00-92a7-4d56-b762-d1ff27a53675",
   "metadata": {},
   "source": [
    "The Fourier transform of the convolutional line profile arising from planar faults, dislocations, and size effects can be evaluated as \n",
    "\n",
    "$$\n",
    "A_{hkl}(L) = A_S(L)A_D(L)A_F(L),\n",
    "$$\n",
    "\n",
    "where the variable $L$ is relted to $\\kappa$ through the Fourier-transform and $\\kappa$ is defined as\n",
    "\n",
    "$$\n",
    "\\kappa = \\frac{2\\sin \\theta}{\\lambda}.\n",
    "$$\n",
    "\n",
    "The profile can then be evaluated as \n",
    "\n",
    "$$\n",
    "I(\\kappa)_{hkl} = \\int_{-\\infty}^\\infty e^{2\\pi i \\kappa L}A_{hkl}(L)dL.\n",
    "$$\n",
    "\n",
    "The observed spectrum is a linear combination of these. We therefore have to sum over the Miller-indices as\n",
    "\n",
    "$$\n",
    "I(\\kappa) = \\sum_{h,k,l}I_{hkl}^{max}I(\\kappa-g_{hkl})_{hkl}.\n",
    "$$"
   ]
  },
  {
   "cell_type": "markdown",
   "id": "ba5cef8e-67ae-40d8-b20a-d3bdc504f4e6",
   "metadata": {},
   "source": [
    "Generally, we assume that the lattice constant $a$, the Burgers vector $b$, and $C_{h00}$ are known for the sample. Then, the parameters to be determined are\n",
    "\n",
    "- $\\rho$\n",
    "- $m$\n",
    "- $\\sigma$\n",
    "- $q$\n",
    "- $R^*$\n",
    "- $\\beta$ or $\\alpha$, the planar fault probability\n",
    "\n",
    "In addition, the peak locations and peak amplitudes are also to be determined."
   ]
  },
  {
   "cell_type": "code",
   "execution_count": 496,
   "id": "4e676518-3a7d-4e86-9fdb-332678bdf91f",
   "metadata": {},
   "outputs": [],
   "source": [
    "import numpy as np\n",
    "import torch\n",
    "import matplotlib.pyplot as plt\n",
    "from matplotlib import rc\n",
    "rc('font',**{'family':'sans-serif','sans-serif':['Helvetica']})\n",
    "rc('text', usetex=True)"
   ]
  },
  {
   "cell_type": "code",
   "execution_count": 497,
   "id": "8af13d8d-d082-4d5b-9411-881c5bb377ea",
   "metadata": {},
   "outputs": [],
   "source": [
    "import matplotlib"
   ]
  },
  {
   "cell_type": "code",
   "execution_count": 498,
   "id": "94fdb982-39e7-4cfe-9241-9adf4bd46b57",
   "metadata": {},
   "outputs": [
    {
     "name": "stdout",
     "output_type": "stream",
     "text": [
      "The autoreload extension is already loaded. To reload it, use:\n",
      "  %reload_ext autoreload\n"
     ]
    }
   ],
   "source": [
    "%load_ext autoreload\n",
    "%autoreload 2\n",
    "%aimport  diffaultpy"
   ]
  },
  {
   "cell_type": "code",
   "execution_count": 499,
   "id": "a0bc2574-1051-4a52-8000-7fcdb4916b36",
   "metadata": {},
   "outputs": [],
   "source": [
    "from diffaultpy.peak_shapes import Peak, generate_multiple_peaks\n"
   ]
  },
  {
   "cell_type": "markdown",
   "id": "d9a78577-4845-4147-b1db-11032190f741",
   "metadata": {},
   "source": [
    "Here we initialize a Peak object\n",
    "\n",
    "with the following properties.\n",
    "\n",
    "$$a =0.36, b =0.255, C_{h00}=0.1. $$\n",
    "\n",
    "\n",
    "\n",
    "The computational domain will correspond to $\\kappa \\in [0, \\kappa_{max}]$ with $\\kappa_{max}^2 a^2=14$. This is to ensure that peaks up to \n",
    "$h^2 + k^2 + l^2 = 14$ are observed. \n",
    "Note, however, that this diffractogram is already stored in units of $\\kappa^2 a^2$. "
   ]
  },
  {
   "cell_type": "code",
   "execution_count": 856,
   "id": "1891edd9-91bd-436c-b85b-b806515b7cdd",
   "metadata": {},
   "outputs": [],
   "source": [
    "lattice_constant = 0.36\n",
    "kappa_max = np.sqrt(14) / lattice_constant\n",
    "# to ensure that we see peaks up to h^2 + k^2 + l^2 <= 14\n",
    "\n",
    "N_fourier = 8192\n",
    "lattice_constant = 0.36\n",
    "burgers_vector = 0.255\n",
    "Ch00 = 0.31\n",
    "single_peak = Peak(kappa_max,\n",
    "                    N_fourier, \n",
    "                    Ch00, \n",
    "                    burgers_vector,\n",
    "                      lattice_constant, \n",
    "                      stacking_or_twin_fault='twin',\n",
    "                        approximation_wilkens='polynomial')\n"
   ]
  },
  {
   "cell_type": "markdown",
   "id": "5048342a-76b4-43e5-bc6f-f96202d6d52a",
   "metadata": {},
   "source": [
    "## NiMo sample\n"
   ]
  },
  {
   "cell_type": "markdown",
   "id": "eaada58b-3c7e-4479-a620-80426bd106e7",
   "metadata": {},
   "source": [
    "We read an experimentally measured diffractogram of a NiMo sample analyzed by [] ... \n"
   ]
  },
  {
   "cell_type": "code",
   "execution_count": 857,
   "id": "623ac1fd-ee1a-43fd-b553-6f7f44352683",
   "metadata": {},
   "outputs": [
    {
     "data": {
      "text/plain": [
       "Text(0, 0.5, 'Intensity')"
      ]
     },
     "execution_count": 857,
     "metadata": {},
     "output_type": "execute_result"
    },
    {
     "data": {
      "image/png": "[encoded data removed]",
      "text/plain": [
       "<Figure size 432x288 with 1 Axes>"
      ]
     },
     "metadata": {
      "needs_background": "light"
     },
     "output_type": "display_data"
    }
   ],
   "source": [
    "sample = np.loadtxt('benchmark_spectra/NiMo_sample.dat')\n",
    "plt.plot(sample[:,0], sample[:,1], '-', c='black')\n",
    "plt.xlabel('$\\kappa^2 a^2$', fontsize = 15)\n",
    "plt.ylabel('Intensity', fontsize = 15)\n"
   ]
  },
  {
   "cell_type": "markdown",
   "id": "fe9279c5-841d-4b7a-8e9c-4beb17734556",
   "metadata": {},
   "source": [
    "We aim to determine the microstructural parameters of this sample, based on the __first five__ peaks. To make the spectrum ameanable to analysis with DifFault, we carry out the following preprocessing steps\n",
    "\n",
    "- Truncate the spectrum such that only the first five peaks are visible, i.e., $\\kappa^2a^2 \\in[0, 14]$. \n",
    "- Subtract the baseline, which is primarily composed of the instrumental profile. For this step, we use the ```pybaselines``` package https://pypi.org/project/pybaselines/\n",
    "- Normalize the intensity values such that the first peak has magnitude 1. \n",
    "- Interpolate the processed spectrum to be uniformly sampled from the inteval $\\kappa^2a^2 \\in[0, 14]$.\n",
    "- Set the intensity values to zero for $\\kappa$ smaller than the first peak location.\n"
   ]
  },
  {
   "cell_type": "code",
   "execution_count": 858,
   "id": "6632993a-9dd4-46c6-93fe-8998d3a1134a",
   "metadata": {},
   "outputs": [],
   "source": [
    "def truncate_spectrum(kappa, intensity, domain):\n",
    "    isInSpectrum = np.logical_and(kappa <= domain[1],kappa >= domain[0])\n",
    "    return kappa[isInSpectrum], intensity[isInSpectrum]"
   ]
  },
  {
   "cell_type": "code",
   "execution_count": 859,
   "id": "ab06a3cd-b83e-483e-896f-1333ae90b6ab",
   "metadata": {},
   "outputs": [],
   "source": [
    "kappa, intensity_truncated = truncate_spectrum(sample[:,0], sample[:,1], [0, 14])"
   ]
  },
  {
   "cell_type": "code",
   "execution_count": 860,
   "id": "09f0c849-7ec9-4270-b9ca-3c7fe1477e66",
   "metadata": {},
   "outputs": [],
   "source": [
    "kappas_interpolated = single_peak.positive_diffraction_vectors_dimensionless"
   ]
  },
  {
   "cell_type": "code",
   "execution_count": 861,
   "id": "effc5388-2da6-447f-ae9c-5cdbe3a84f28",
   "metadata": {},
   "outputs": [],
   "source": [
    "\n",
    "from pybaselines import whittaker\n",
    "from scipy import interpolate"
   ]
  },
  {
   "cell_type": "code",
   "execution_count": 862,
   "id": "18436ab3-cd6f-4655-a58a-dd7302ee26fa",
   "metadata": {},
   "outputs": [],
   "source": [
    "def subtract_bg_arpls(x, y, bg):\n",
    "    return y - bg\n",
    "\n",
    "\n",
    "def preprocess_with_arpls(x, y, kappas):\n",
    "    bg = whittaker.drpls(y, lam=100000., eta=0.54, max_iter=50, tol=0.001)[0] \n",
    "\n",
    "    ynew = subtract_bg_arpls(x, y, bg)\n",
    "    f = interpolate.interp1d(x, ynew, bounds_error = False, fill_value = 0)\n",
    "    spectrum = f(kappas)\n",
    "    spectrum = (spectrum) / (spectrum.max() - spectrum.min())\n",
    "    return spectrum - spectrum.min()"
   ]
  },
  {
   "cell_type": "code",
   "execution_count": 863,
   "id": "9f0b633e-f090-4e4f-902e-90e4bad23665",
   "metadata": {},
   "outputs": [],
   "source": [
    "true_spectrum = preprocess_with_arpls(kappa, intensity_truncated, kappas_interpolated)"
   ]
  },
  {
   "cell_type": "code",
   "execution_count": 864,
   "id": "bdc051eb-19ba-4678-99cf-78bfa88947b9",
   "metadata": {},
   "outputs": [
    {
     "data": {
      "text/plain": [
       "<matplotlib.legend.Legend at 0x7fea3af8e550>"
      ]
     },
     "execution_count": 864,
     "metadata": {},
     "output_type": "execute_result"
    },
    {
     "data": {
      "image/png": "[encoded data removed]",
      "text/plain": [
       "<Figure size 432x288 with 1 Axes>"
      ]
     },
     "metadata": {
      "needs_background": "light"
     },
     "output_type": "display_data"
    }
   ],
   "source": [
    "rescaled_sample = sample[:,1] / (sample[:,1].max() - sample[:,1].min()) \n",
    "rescaled_sample = rescaled_sample - rescaled_sample.min()\n",
    "plt.plot(sample[:,0], rescaled_sample, '-', c='black', label = 'Rescaled spectrum')\n",
    "plt.plot(kappas_interpolated, true_spectrum, '-', linewidth = 1.2, c='crimson', label = 'Background subtracted')\n",
    "plt.xlabel('$\\kappa$ $[nm^{-1}]$', fontsize = 15)\n",
    "plt.ylabel('Intensity', fontsize = 15)\n",
    "plt.xlim(0, 14)\n",
    "plt.legend()"
   ]
  },
  {
   "cell_type": "markdown",
   "id": "b8745a7a-dbf6-4c57-9776-651c0b698091",
   "metadata": {},
   "source": [
    "### Optimization\n",
    "\n",
    "Since in this case, finding the peak positions and intensities can be done by searching for local maxima of the signal, we fix those. "
   ]
  },
  {
   "cell_type": "markdown",
   "id": "8eed627a-98e7-467d-9039-087e83bb1c97",
   "metadata": {},
   "source": [
    "Let us set up a loss function for the optimization. Combine all variables into a single vector first."
   ]
  },
  {
   "cell_type": "code",
   "execution_count": 865,
   "id": "e6e9a382-efec-48ba-87f6-f2c632a275d4",
   "metadata": {},
   "outputs": [],
   "source": [
    "def unpack_x(x):\n",
    "    m, sigma, B, rho, Rstar, q = x\n",
    "    return m, sigma, B, rho, Rstar, q"
   ]
  },
  {
   "cell_type": "code",
   "execution_count": 866,
   "id": "6d40fc1c-42a5-4371-b01b-d115b09d71d4",
   "metadata": {},
   "outputs": [],
   "source": [
    "def loss(x, intensity, offset):\n",
    "    m, sigma, B, rho, Rstar, q = x\n",
    "    spectrum = generate_multiple_peaks(single_peak,\n",
    "                                        m,\n",
    "                                        sigma,\n",
    "                                       rho,\n",
    "                                        Rstar,\n",
    "                                        q,\n",
    "                                        peak_intensities=intensity,\n",
    "                                       planar_fault_probability=B,\n",
    "                                       offset=offset)\n",
    "    return true_spectrum.ravel() - spectrum.ravel()"
   ]
  },
  {
   "cell_type": "markdown",
   "id": "08d03717-4ff0-4363-b5f9-58b5ca3de532",
   "metadata": {},
   "source": [
    "Specify the initial guess for the parmeters. The initial intensity and offset values are determined by picking the relative maxima of the spectrum. Based on previous studies, we define a feasible range for the microstructural parameters. The initial values are chosen from this range following a uniform distribution."
   ]
  },
  {
   "cell_type": "code",
   "execution_count": 867,
   "id": "935227d8-9096-405a-96f6-30203b21bf2b",
   "metadata": {},
   "outputs": [],
   "source": [
    "from scipy.signal import find_peaks\n",
    "def calculate_offsets_and_intensities(x, prominence = 0.01, height = None):\n",
    "    peaks, _ = find_peaks(x, prominence=prominence, height = height)\n",
    "    theoretical_peaks = np.array([3, 4, 8, 11, 12])\n",
    "    peak_offsets = list(kappas_interpolated[peaks] - theoretical_peaks)\n",
    "    peak_intensities = list(x[peaks])\n",
    "    return np.array(peak_offsets).reshape(-1,1), np.array(peak_intensities).reshape(-1,1)\n"
   ]
  },
  {
   "cell_type": "code",
   "execution_count": 902,
   "id": "08ae92e8-1b52-4c58-88b9-91d6dc8d9ea6",
   "metadata": {},
   "outputs": [],
   "source": [
    "rng = np.random.default_rng(1)\n",
    "domains = {'B': [0.01, 0.2],\n",
    "           'm': [0, 100.],\n",
    "           'sigma': [0.1, 1.],\n",
    "           'rho': [0.0005, 0.05],\n",
    "           'Rstar' : [1, 100.],\n",
    "           'q' : [1.5, 2.3]\n",
    "          }\n",
    "\n"
   ]
  },
  {
   "cell_type": "code",
   "execution_count": 903,
   "id": "48b04a80-0120-4f19-bae2-094493f3850f",
   "metadata": {},
   "outputs": [],
   "source": [
    "np.random.seed(3)\n",
    "m_init = rng.uniform(low = domains['m'][0], high = domains['m'][1])\n",
    "sigma_init = rng.uniform(low = domains['sigma'][0], high = domains['sigma'][1])\n",
    "B_init = rng.uniform(low = domains['B'][0], high = domains['B'][1])\n",
    "rho_init = rng.uniform(low = domains['rho'][0], high = domains['rho'][1])\n",
    "Rstar_init = rng.uniform(low = domains['Rstar'][0], high = domains['Rstar'][1])\n",
    "q_init = rng.uniform(low = domains['q'][0], high = domains['q'][1])\n",
    "offsets, intensities = calculate_offsets_and_intensities(true_spectrum)\n"
   ]
  },
  {
   "cell_type": "code",
   "execution_count": 904,
   "id": "d9ba4146-886a-407b-8cc7-2d1e89cc8ed9",
   "metadata": {},
   "outputs": [],
   "source": [
    "m_cmwp = 31\n",
    "sigma_cmwp = 0.2\n",
    "rho_cmwp = 0.025\n",
    "Rstar_cmwp = 1.21\n",
    "q_cmwp = 1.7\n",
    "B_cmwp = 0.058"
   ]
  },
  {
   "cell_type": "markdown",
   "id": "9d3398c2-19f3-47c1-9dc0-951fd27fb6c6",
   "metadata": {},
   "source": [
    "We also impose these bounds for the least squares regression. "
   ]
  },
  {
   "cell_type": "code",
   "execution_count": 905,
   "id": "c00c1bb4-3821-4e59-a33e-862df6a87b0c",
   "metadata": {},
   "outputs": [],
   "source": [
    "intensity_min = 0.001\n",
    "intensity_max = 1.1\n",
    "\n",
    "bounds1 = [domains['m'][0],\n",
    "           domains['sigma'][0], \n",
    "           domains['B'][0],\n",
    "           domains['rho'][0],\n",
    "           domains['Rstar'][0],\n",
    "           domains['q'][0]]\n",
    "bounds2 = [domains['m'][1],\n",
    "           domains['sigma'][1],\n",
    "           domains['B'][1],\n",
    "           domains['rho'][1],\n",
    "           domains['Rstar'][1],\n",
    "           domains['q'][1]]"
   ]
  },
  {
   "cell_type": "code",
   "execution_count": 906,
   "id": "7e96cf1c-c71a-4448-8f97-653e8e7ecc99",
   "metadata": {},
   "outputs": [],
   "source": [
    "x_0 = np.array([m_init, sigma_init, B_init, rho_init, Rstar_init, q_init])"
   ]
  },
  {
   "cell_type": "code",
   "execution_count": 907,
   "id": "55b43b7f-0730-4ee1-9ca3-23185f9f6893",
   "metadata": {},
   "outputs": [],
   "source": [
    "x_0 = np.array([m_cmwp, sigma_cmwp, B_cmwp, rho_cmwp, Rstar_cmwp, q_cmwp])"
   ]
  },
  {
   "cell_type": "code",
   "execution_count": null,
   "id": "bbaf17db-a8fc-413c-acd2-61c00fe52216",
   "metadata": {},
   "outputs": [],
   "source": []
  },
  {
   "cell_type": "code",
   "execution_count": 908,
   "id": "435bf1c9-79fc-4f3e-80d9-bfde9ef459d7",
   "metadata": {},
   "outputs": [],
   "source": [
    "from scipy.optimize import least_squares"
   ]
  },
  {
   "cell_type": "code",
   "execution_count": 909,
   "id": "38b849d5-3f75-4fb2-99ce-b359a923085a",
   "metadata": {},
   "outputs": [],
   "source": [
    "loss_fixed_intensity_offset = lambda x : loss(x, intensities, offsets)"
   ]
  },
  {
   "cell_type": "code",
   "execution_count": 910,
   "id": "7508713c-ca3d-4368-8a5b-8e9691909043",
   "metadata": {},
   "outputs": [
    {
     "name": "stdout",
     "output_type": "stream",
     "text": [
      "   Iteration     Total nfev        Cost      Cost reduction    Step norm     Optimality   \n",
      "       0              1         1.3131e-01                                    5.96e-01    \n",
      "       1              2         5.0272e-02      8.10e-02       3.37e+00       7.72e-01    \n",
      "       2              3         4.2079e-02      8.19e-03       2.66e+00       1.69e+00    \n",
      "       3              4         3.5477e-02      6.60e-03       1.37e+00       4.41e-01    \n",
      "       4              6         3.4361e-02      1.12e-03       6.32e-01       1.27e-01    \n",
      "       5              7         3.3892e-02      4.70e-04       1.18e+00       1.70e-01    \n",
      "       6              8         3.3282e-02      6.10e-04       1.15e+00       7.12e-02    \n",
      "       7              9         3.3110e-02      1.72e-04       2.31e+00       1.06e-01    \n",
      "       8             10         3.2538e-02      5.72e-04       2.37e+00       4.46e-02    \n",
      "       9             12         3.2364e-02      1.74e-04       1.16e+00       9.71e-03    \n",
      "      10             13         3.2233e-02      1.31e-04       2.21e+00       2.84e-02    \n",
      "      11             14         3.2216e-02      1.71e-05       4.69e+00       6.60e-02    \n",
      "      12             15         3.2014e-02      2.02e-04       1.14e+00       2.05e-03    \n",
      "      13             16         3.1945e-02      6.91e-05       1.91e+00       9.71e-03    \n",
      "      14             17         3.1909e-02      3.60e-05       4.50e+00       2.72e-02    \n",
      "      15             18         3.1856e-02      5.29e-05       3.11e+00       7.58e-03    \n",
      "      16             19         3.1831e-02      2.48e-05       4.13e+00       1.28e-02    \n",
      "      17             20         3.1813e-02      1.77e-05       2.12e+00       2.36e-03    \n",
      "      18             21         3.1792e-02      2.15e-05       6.24e+00       1.04e-02    \n",
      "      19             22         3.1784e-02      7.52e-06       8.49e-01       5.51e-05    \n",
      "      20             24         3.1776e-02      8.10e-06       2.60e+00       4.59e-05    \n",
      "      21             26         3.1774e-02      2.02e-06       1.20e+00       9.20e-05    \n",
      "      22             28         3.1773e-02      1.06e-06       1.11e+00       2.80e-04    \n",
      "      23             29         3.1773e-02      4.74e-07       2.14e+00       1.97e-03    \n",
      "      24             30         3.1772e-02      9.44e-07       6.12e-01       6.18e-05    \n",
      "      25             31         3.1772e-02      1.59e-08       1.27e+00       6.32e-04    \n",
      "      26             32         3.1772e-02      1.25e-07       3.41e-01       5.18e-05    \n",
      "      27             34         3.1772e-02      1.88e-08       9.20e-02       5.04e-06    \n",
      "      28             35         3.1772e-02      9.55e-09       1.11e-01       9.76e-06    \n",
      "      29             36         3.1772e-02      8.92e-10       1.20e-01       3.61e-06    \n",
      "      30             37         3.1772e-02      3.16e-09       2.33e-01       3.18e-05    \n",
      "      31             39         3.1772e-02      2.65e-09       1.13e-01       3.72e-06    \n",
      "      32             41         3.1772e-02      8.42e-10       2.95e-02       6.86e-07    \n",
      "      33             42         3.1772e-02      3.45e-10       2.81e-02       4.67e-07    \n",
      "      34             44         3.1772e-02      9.19e-11       1.37e-02       7.09e-07    \n",
      "      35             45         3.1772e-02      8.79e-11       2.81e-02       2.23e-07    \n",
      "      36             47         3.1772e-02      4.44e-11       1.38e-02       1.79e-07    \n",
      "      37             48         3.1772e-02      2.55e-11       6.65e-03       2.47e-07    \n",
      "      38             50         3.1772e-02      8.15e-12       3.54e-03       1.89e-07    \n",
      "      39             52         3.1772e-02      3.18e-12       1.70e-03       1.49e-07    \n",
      "      40             53         3.1772e-02      2.00e-12       3.51e-03       8.69e-08    \n",
      "      41             55         3.1772e-02      1.22e-12       8.10e-04       7.49e-08    \n",
      "      42             56         3.1772e-02      4.65e-14       1.84e-03       4.49e-08    \n",
      "      43             57         3.1772e-02      3.98e-13       4.20e-04       4.45e-08    \n",
      "      44             58         3.1772e-02      7.12e-14       9.43e-04       2.82e-08    \n",
      "      45             59         3.1772e-02      2.41e-14       2.20e-04       4.50e-09    \n",
      "`ftol` termination condition is satisfied.\n",
      "Function evaluations 59, initial cost 1.3131e-01, final cost 3.1772e-02, first-order optimality 4.50e-09.\n"
     ]
    }
   ],
   "source": [
    "res_constrained  = least_squares(loss_fixed_intensity_offset, x_0, xtol = 1e-12, gtol = 1e-12, ftol = 1e-12, bounds = (bounds1, bounds2),\n",
    "                                     verbose = 2, loss = 'huber', jac = '2-point')"
   ]
  },
  {
   "cell_type": "code",
   "execution_count": 911,
   "id": "53412d5e-fd83-435c-b877-d2ad04e65c61",
   "metadata": {},
   "outputs": [],
   "source": [
    "m, sigma, B, rho, Rstar, q = unpack_x(res_constrained.x)"
   ]
  },
  {
   "cell_type": "code",
   "execution_count": 912,
   "id": "67e886b2-f4a7-44e8-b9eb-f3f6606ad928",
   "metadata": {},
   "outputs": [],
   "source": [
    "predicted_spectrum = generate_multiple_peaks(single_peak,\n",
    "                                        m,\n",
    "                                        sigma,\n",
    "                                        rho,\n",
    "                                        Rstar,\n",
    "                                        q,\n",
    "                                        peak_intensities = intensities,\n",
    "                                        planar_fault_probability = B,\n",
    "                                        offset = offsets)"
   ]
  },
  {
   "cell_type": "code",
   "execution_count": 913,
   "id": "74e8d5a5-7045-4080-98be-4dab35af82c8",
   "metadata": {},
   "outputs": [
    {
     "data": {
      "text/plain": [
       "array([[-0.03455012],\n",
       "       [-0.03638139],\n",
       "       [-0.08814553],\n",
       "       [-0.13465999],\n",
       "       [-0.18093029]])"
      ]
     },
     "execution_count": 913,
     "metadata": {},
     "output_type": "execute_result"
    }
   ],
   "source": [
    "offsets"
   ]
  },
  {
   "cell_type": "code",
   "execution_count": 914,
   "id": "9ded5ff4-5d3e-4ef3-b77e-68ec9e8f7fc6",
   "metadata": {},
   "outputs": [],
   "source": [
    "theoretical_peaks = np.array([3, 4, 8, 11, 12])"
   ]
  },
  {
   "cell_type": "code",
   "execution_count": 915,
   "id": "a683ff9f-31ce-4b6d-9183-ae2571ae7e28",
   "metadata": {},
   "outputs": [],
   "source": [
    "from matplotlib import rc\n",
    "rc('font',**{'family':'sans-serif','sans-serif':['Helvetica'], 'size':10})\n",
    "rc('text', usetex=True)"
   ]
  },
  {
   "cell_type": "code",
   "execution_count": 916,
   "id": "eb3cd2f7-936f-4e2f-b89f-043fb988f3db",
   "metadata": {},
   "outputs": [
    {
     "data": {
      "image/png": "[encoded data removed]",
      "text/plain": [
       "<Figure size 432x288 with 1 Axes>"
      ]
     },
     "metadata": {
      "needs_background": "light"
     },
     "output_type": "display_data"
    }
   ],
   "source": [
    "fig = plt.figure(figsize = (6, 4))\n",
    "ax = fig.add_subplot(111)\n",
    "ax.plot(single_peak.positive_diffraction_vectors_dimensionless, true_spectrum, 'o', markersize = 1.2, c='black', label = 'True spectrum')\n",
    "ax.plot(single_peak.positive_diffraction_vectors_dimensionless, predicted_spectrum,'-',  linewidth = 1.2, c='Crimson', label = 'Simulation  \\n with identified parameters')\n",
    "ax.legend()\n",
    "\n",
    "text_to_print = \"$m$ = %s nm \\n $\\\\sigma$ = %s \\n $\\\\rho$ = %s 1/nm$^2$ \\n $q$ = %s \\n $R^*$ = %s nm \\n $\\\\beta$ = %s\" %(round(m,2),\n",
    "                                                       round(sigma,2),\n",
    "                                                      round(rho,2), \n",
    "                                                       round(q,2), \n",
    "                                                        round(Rstar, 2),\n",
    "                                                       round(B, 7))#, sigma, rho, q, Rstar, B)\n",
    "\n",
    "ax.set_xlabel('$\\kappa$ $[nm^{-1}]$', fontsize = 15)\n",
    "ax.set_ylabel('Intensity', fontsize = 15)\n",
    "\n",
    "axins = ax.inset_axes(\n",
    "    [0.5, 0.3, 0.3, 0.3], xticks = [], yticks = [])\n",
    "axins.plot(single_peak.positive_diffraction_vectors_dimensionless, true_spectrum, 'o', markersize = 1.2, c='black', label = 'True spectrum')\n",
    "axins.plot(single_peak.positive_diffraction_vectors_dimensionless, predicted_spectrum,'-',  linewidth = 1.2, c='Crimson', label = 'Simulation  \\n with identified parameters')\n",
    "#ax.plot(np.squeeze(theoretical_peaks + offsets.T), intensities.ravel(), 'o')\n",
    "axins.set_xlim(10, 12)\n",
    "#axins.set_ylim(0., 0.2)\n",
    "axins.set_ylim(-0.01, 0.15)\n",
    "ax.indicate_inset_zoom(axins, edgecolor=\"black\")\n",
    "ax.text(-0.2, 0.4, text_to_print)\n",
    "plt.savefig('nimo_predict.pdf', bbox_inches='tight')"
   ]
  },
  {
   "cell_type": "code",
   "execution_count": 917,
   "id": "ab8b0ae8-bed4-45ca-b2c0-da7dd426d109",
   "metadata": {},
   "outputs": [],
   "source": [
    "predicted_spectrum_CMWP = generate_multiple_peaks(single_peak,\n",
    "                                        m_cmwp,\n",
    "                                        sigma_cmwp,\n",
    "                                        rho_cmwp,\n",
    "                                        Rstar_cmwp,\n",
    "                                        q_cmwp,\n",
    "                                        peak_intensities = intensities,\n",
    "                                        planar_fault_probability = B_cmwp,\n",
    "                                        offset = offsets)"
   ]
  },
  {
   "cell_type": "code",
   "execution_count": 918,
   "id": "9d4a7b99-f5c0-4288-b171-c3d5557813e6",
   "metadata": {},
   "outputs": [
    {
     "data": {
      "image/png": "[encoded data removed]",
      "text/plain": [
       "<Figure size 432x288 with 1 Axes>"
      ]
     },
     "metadata": {
      "needs_background": "light"
     },
     "output_type": "display_data"
    }
   ],
   "source": [
    "fig = plt.figure(figsize = (6, 4))\n",
    "ax = fig.add_subplot(111)\n",
    "ax.plot(single_peak.positive_diffraction_vectors_dimensionless, true_spectrum, 'o', markersize = 1.2, c='black', label = 'True spectrum')\n",
    "ax.plot(single_peak.positive_diffraction_vectors_dimensionless, predicted_spectrum_CMWP,'-',  linewidth = 1.2, c='Crimson', label = 'Simulation  \\n with identified parameters')\n",
    "\n",
    "text_to_print = \"$m$ = %s nm \\n $\\\\sigma$ = %s \\n $\\\\rho$ = %s 1/nm$^2$ \\n $q$ = %s \\n $R^*$ = %s nm \\n $\\\\beta$ = %s\" %(round(m_cmwp,2),\n",
    "                                                       round(sigma_cmwp,2),\n",
    "                                                      round(rho_cmwp,2), \n",
    "                                                       round(q_cmwp,2), \n",
    "                                                        round(Rstar_cmwp, 2),\n",
    "                                                       round(B_cmwp, 7))#, sigma, rho, q, Rstar, B)\n",
    "\n",
    "ax.set_xlabel('$\\kappa$ $[nm^{-1}]$', fontsize = 15)\n",
    "ax.set_ylabel('Intensity', fontsize = 15)\n",
    "\n",
    "axins = ax.inset_axes(\n",
    "    [0.5, 0.3, 0.4, 0.4], xticks = [], yticks = [])\n",
    "axins.plot(single_peak.positive_diffraction_vectors_dimensionless, true_spectrum, 'o', markersize = 1.2, c='black', label = 'True spectrum')\n",
    "axins.plot(single_peak.positive_diffraction_vectors_dimensionless, predicted_spectrum,'-',  linewidth = 1.2, c='Crimson', label = 'Simulation  \\n with identified parameters')\n",
    "ax.plot(np.squeeze(theoretical_peaks + offsets.T), intensities.ravel(), 'o')\n",
    "axins.set_xlim(10, 12)\n",
    "#axins.set_ylim(0., 0.2)\n",
    "axins.set_ylim(-0.01, 0.1)\n",
    "ax.indicate_inset_zoom(axins, edgecolor=\"black\")\n",
    "ax.text(-0.2, 0.4, text_to_print)\n",
    "plt.savefig('nimo_predict_CMWP.pdf', bbox_inches='tight')"
   ]
  },
  {
   "cell_type": "code",
   "execution_count": 919,
   "id": "4ec97367-c5a7-471b-a0ad-ae88b4c08cca",
   "metadata": {},
   "outputs": [
    {
     "data": {
      "text/plain": [
       "Text(0, 0.5, 'Error')"
      ]
     },
     "execution_count": 919,
     "metadata": {},
     "output_type": "execute_result"
    },
    {
     "data": {
      "image/png": "[encoded data removed]",
      "text/plain": [
       "<Figure size 432x288 with 1 Axes>"
      ]
     },
     "metadata": {
      "needs_background": "light"
     },
     "output_type": "display_data"
    }
   ],
   "source": [
    "plt.semilogy(single_peak.positive_diffraction_vectors, np.abs(true_spectrum-predicted_spectrum.ravel()), c='black')\n",
    "plt.semilogy(single_peak.positive_diffraction_vectors, np.abs(true_spectrum-predicted_spectrum_CMWP.ravel()), '--', c='black', label = 'CMWP')\n",
    "\n",
    "plt.xlabel('$\\\\kappa$')\n",
    "plt.ylabel('Error')\n"
   ]
  },
  {
   "cell_type": "code",
   "execution_count": null,
   "id": "e79b9973-a7e3-4238-818c-8607e91edbbe",
   "metadata": {},
   "outputs": [],
   "source": []
  }
 ],
 "metadata": {
  "kernelspec": {
   "display_name": "Python 3 (ipykernel)",
   "language": "python",
   "name": "python3"
  },
  "language_info": {
   "codemirror_mode": {
    "name": "ipython",
    "version": 3
   },
   "file_extension": ".py",
   "mimetype": "text/x-python",
   "name": "python",
   "nbconvert_exporter": "python",
   "pygments_lexer": "ipython3",
   "version": "3.9.7"
  }
 },
 "nbformat": 4,
 "nbformat_minor": 5
}
