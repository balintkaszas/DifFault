{
 "cells": [
  {
   "cell_type": "markdown",
   "id": "94168b51-ebd6-4e2b-aa83-59120649b3b1",
   "metadata": {},
   "source": [
    "# Determining parameters\n"
   ]
  },
  {
   "cell_type": "markdown",
   "id": "096c8c00-92a7-4d56-b762-d1ff27a53675",
   "metadata": {},
   "source": [
    "The Fourier transform of the convolutional line profile arising from planar faults, dislocations, and size effects can be evaluated as \n",
    "\n",
    "$$\n",
    "A_{hkl}(L) = A_S(L)A_D(L)A_F(L),\n",
    "$$\n",
    "\n",
    "where the variable $L$ is relted to $\\kappa$ through the Fourier-transform and $\\kappa$ is defined as\n",
    "\n",
    "$$\n",
    "\\kappa = \\frac{2\\sin \\theta}{\\lambda}.\n",
    "$$\n",
    "\n",
    "The profile can then be evaluated as \n",
    "\n",
    "$$\n",
    "I(\\kappa)_{hkl} = \\int_{-\\infty}^\\infty e^{2\\pi i \\kappa L}A_{hkl}(L)dL.\n",
    "$$\n",
    "\n",
    "The observed spectrum is a linear combination of these. We therefore have to sum over the Miller-indices as\n",
    "\n",
    "$$\n",
    "I(\\kappa) = \\sum_{h,k,l}I_{hkl}^{max}I(\\kappa-g_{hkl})_{hkl}.\n",
    "$$"
   ]
  },
  {
   "cell_type": "markdown",
   "id": "ba5cef8e-67ae-40d8-b20a-d3bdc504f4e6",
   "metadata": {},
   "source": [
    "Generally, we assume that the lattice constant $a$, the Burgers vector $b$, and $C_{h00}$ are known for the sample. Then, the parameters to be determined are\n",
    "\n",
    "- $\\rho$\n",
    "- $m$\n",
    "- $\\sigma$\n",
    "- $q$\n",
    "- $R^*$\n",
    "- $\\beta$ or $\\alpha$, the planar fault probability\n",
    "\n",
    "In addition, the peak locations and peak amplitudes are also to be determined."
   ]
  },
  {
   "cell_type": "code",
   "execution_count": 1,
   "id": "4e676518-3a7d-4e86-9fdb-332678bdf91f",
   "metadata": {},
   "outputs": [],
   "source": [
    "import numpy as np\n",
    "import torch\n",
    "import matplotlib.pyplot as plt\n",
    "from matplotlib import rc\n",
    "rc('font',**{'family':'sans-serif','sans-serif':['Helvetica']})\n",
    "rc('text', usetex=True)"
   ]
  },
  {
   "cell_type": "code",
   "execution_count": 2,
   "id": "8af13d8d-d082-4d5b-9411-881c5bb377ea",
   "metadata": {},
   "outputs": [],
   "source": [
    "import matplotlib"
   ]
  },
  {
   "cell_type": "code",
   "execution_count": 3,
   "id": "94fdb982-39e7-4cfe-9241-9adf4bd46b57",
   "metadata": {},
   "outputs": [],
   "source": [
    "%load_ext autoreload\n",
    "%autoreload 2\n",
    "%aimport  diffaultpy"
   ]
  },
  {
   "cell_type": "code",
   "execution_count": 4,
   "id": "a0bc2574-1051-4a52-8000-7fcdb4916b36",
   "metadata": {},
   "outputs": [],
   "source": [
    "from diffaultpy.peak_shapes import Peak, generate_multiple_peaks\n"
   ]
  },
  {
   "cell_type": "markdown",
   "id": "d9a78577-4845-4147-b1db-11032190f741",
   "metadata": {},
   "source": [
    "Here we initialize a Peak object\n",
    "\n",
    "with the following properties.\n",
    "\n",
    "$$a =0.36, b =0.255, C_{h00}=0.1. $$\n",
    "\n",
    "\n",
    "The computational domain will correspond to $\\kappa \\in [0, \\kappa_{max}]$ with $\\kappa_{max}=14$. "
   ]
  },
  {
   "cell_type": "code",
   "execution_count": 89,
   "id": "1891edd9-91bd-436c-b85b-b806515b7cdd",
   "metadata": {},
   "outputs": [],
   "source": [
    "lattice_constant = 0.36\n",
    "kappa_max = 14\n",
    "N_fourier = 8192\n",
    "lattice_constant = 0.36\n",
    "burgers_vector = 0.255\n",
    "Ch00 = 0.36\n",
    "single_peak = Peak(kappa_max,\n",
    "                    N_fourier, \n",
    "                    Ch00, \n",
    "                    burgers_vector,\n",
    "                      lattice_constant, \n",
    "                      stacking_or_twin_fault='stacking',\n",
    "                        approximation_wilkens='polynomial')\n"
   ]
  },
  {
   "cell_type": "markdown",
   "id": "5048342a-76b4-43e5-bc6f-f96202d6d52a",
   "metadata": {},
   "source": [
    "## NiMo sample\n"
   ]
  },
  {
   "cell_type": "markdown",
   "id": "eaada58b-3c7e-4479-a620-80426bd106e7",
   "metadata": {},
   "source": [
    "We read an experimentally measured diffractogram of a NiMo sample analyzed by [] ... \n"
   ]
  },
  {
   "cell_type": "code",
   "execution_count": 85,
   "id": "623ac1fd-ee1a-43fd-b553-6f7f44352683",
   "metadata": {},
   "outputs": [
    {
     "data": {
      "text/plain": [
       "Text(0, 0.5, 'Intensity')"
      ]
     },
     "execution_count": 85,
     "metadata": {},
     "output_type": "execute_result"
    },
    {
     "data": {
      "image/png": "[encoded data removed]",
      "text/plain": [
       "<Figure size 432x288 with 1 Axes>"
      ]
     },
     "metadata": {
      "needs_background": "light"
     },
     "output_type": "display_data"
    }
   ],
   "source": [
    "sample = np.loadtxt('benchmark_spectra/NiMo_sample.dat')\n",
    "plt.plot(sample[:,0], sample[:,1], '-', c='black')\n",
    "plt.xlabel('$\\kappa$ $[nm^{-1}]$', fontsize = 15)\n",
    "plt.ylabel('Intensity', fontsize = 15)\n"
   ]
  },
  {
   "cell_type": "markdown",
   "id": "fe9279c5-841d-4b7a-8e9c-4beb17734556",
   "metadata": {},
   "source": [
    "We aim to determine the microstructural parameters of this sample, based on the __first five__ peaks. To make the spectrum ameanable to analysis with DifFault, we carry out the following preprocessing steps\n",
    "\n",
    "- Truncate the spectrum such that only the first five peaks are visible, i.e., $\\kappa \\in[0, 14]$. \n",
    "- Subtract the baseline, which is primarily composed of the instrumental profile. For this step, we use the ```pybaselines``` package https://pypi.org/project/pybaselines/\n",
    "- Normalize the intensity values such that the first peak has magnitude 1. \n",
    "- Interpolate the processed spectrum to be uniformly sampled from the inteval $\\kappa \\in[0, 14]$.\n",
    "- Set the intensity values to zero for $\\kappa$ smaller than the first peak location.\n"
   ]
  },
  {
   "cell_type": "code",
   "execution_count": 86,
   "id": "6632993a-9dd4-46c6-93fe-8998d3a1134a",
   "metadata": {},
   "outputs": [],
   "source": [
    "def truncate_spectrum(kappa, intensity, domain):\n",
    "    isInSpectrum = np.logical_and(kappa <= domain[1],kappa >= domain[0])\n",
    "    return kappa[isInSpectrum], intensity[isInSpectrum]"
   ]
  },
  {
   "cell_type": "code",
   "execution_count": 87,
   "id": "ab06a3cd-b83e-483e-896f-1333ae90b6ab",
   "metadata": {},
   "outputs": [],
   "source": [
    "kappa, intensity_truncated = truncate_spectrum(sample[:,0], sample[:,1], [0, 14])"
   ]
  },
  {
   "cell_type": "code",
   "execution_count": 88,
   "id": "09f0c849-7ec9-4270-b9ca-3c7fe1477e66",
   "metadata": {},
   "outputs": [],
   "source": [
    "kappas_interpolated = single_peak.positive_diffraction_vectors"
   ]
  },
  {
   "cell_type": "code",
   "execution_count": 12,
   "id": "effc5388-2da6-447f-ae9c-5cdbe3a84f28",
   "metadata": {},
   "outputs": [],
   "source": [
    "\n",
    "from pybaselines import whittaker\n",
    "from scipy import interpolate"
   ]
  },
  {
   "cell_type": "code",
   "execution_count": 16,
   "id": "18436ab3-cd6f-4655-a58a-dd7302ee26fa",
   "metadata": {},
   "outputs": [],
   "source": [
    "def subtract_bg_arpls(x, y, bg):\n",
    "    return y - bg\n",
    "\n",
    "\n",
    "def preprocess_with_arpls(x, y, kappas):\n",
    "    bg = whittaker.drpls(y)[0] \n",
    "\n",
    "    ynew = subtractBG_arpls(x, y, bg)\n",
    "    f = interpolate.interp1d(x, ynew, bounds_error = False, fill_value = 0)\n",
    "    spectrum = f(kappas)\n",
    "    spectrum = (spectrum) / (spectrum.max() - spectrum.min())\n",
    "    return spectrum - spectrum.min()"
   ]
  },
  {
   "cell_type": "code",
   "execution_count": 63,
   "id": "9f0b633e-f090-4e4f-902e-90e4bad23665",
   "metadata": {},
   "outputs": [],
   "source": [
    "true_spectrum = preprocess_with_arpls(kappa, intensity_truncated, kappas_interpolated)"
   ]
  },
  {
   "cell_type": "code",
   "execution_count": 64,
   "id": "bdc051eb-19ba-4678-99cf-78bfa88947b9",
   "metadata": {},
   "outputs": [
    {
     "data": {
      "text/plain": [
       "<matplotlib.legend.Legend at 0x7f9bb0068520>"
      ]
     },
     "execution_count": 64,
     "metadata": {},
     "output_type": "execute_result"
    },
    {
     "data": {
      "image/png": "[encoded data removed]",
      "text/plain": [
       "<Figure size 432x288 with 1 Axes>"
      ]
     },
     "metadata": {
      "needs_background": "light"
     },
     "output_type": "display_data"
    }
   ],
   "source": [
    "rescaled_sample = sample[:,1] / (sample[:,1].max() - sample[:,1].min()) \n",
    "rescaled_sample = rescaled_sample - rescaled_sample.min()\n",
    "plt.plot(sample[:,0], rescaled_sample, '-', c='black', label = 'Rescaled spectrum')\n",
    "plt.plot(kappas_interpolated, true_spectrum, '-', linewidth = 1.2, c='crimson', label = 'Background subtracted')\n",
    "plt.xlabel('$\\kappa$ $[nm^{-1}]$', fontsize = 15)\n",
    "plt.ylabel('Intensity', fontsize = 15)\n",
    "plt.xlim(0, 14)\n",
    "plt.legend()"
   ]
  },
  {
   "cell_type": "markdown",
   "id": "009f36db-e726-4c96-a32d-0e5d2b89071c",
   "metadata": {},
   "source": [
    "Let us also fix the following parameters\n",
    "\n",
    "$$\n",
    "\\rho = 0.01, m = 10, R^* = 60, \\sigma = 0.001,  q=2, B = 0.05\n",
    "$$\n"
   ]
  },
  {
   "cell_type": "code",
   "execution_count": 7,
   "id": "682e80d2-e214-40f0-8ddb-e4270b2ba4a0",
   "metadata": {},
   "outputs": [],
   "source": [
    "rho_true = 0.01\n",
    "m_true = 20\n",
    "Rstar_true = 5\n",
    "sigma_true = 0.1\n",
    "q_true = 3\n",
    "B_true = 0.05"
   ]
  },
  {
   "cell_type": "markdown",
   "id": "b8745a7a-dbf6-4c57-9776-651c0b698091",
   "metadata": {},
   "source": [
    "### Optimization"
   ]
  },
  {
   "cell_type": "markdown",
   "id": "8eed627a-98e7-467d-9039-087e83bb1c97",
   "metadata": {},
   "source": [
    "Let us set up a loss function for the optimization. Combine all variables into a single vector first."
   ]
  },
  {
   "cell_type": "code",
   "execution_count": 90,
   "id": "e6e9a382-efec-48ba-87f6-f2c632a275d4",
   "metadata": {},
   "outputs": [],
   "source": [
    "def unpack_x(x):\n",
    "    m, sigma, B, rho, Rstar, q = x[:6]\n",
    "    intensity = x[6:11].reshape(-1,1)\n",
    "    offset = x[11:].reshape(-1,1)\n",
    "    return m, sigma, B, rho, Rstar, q, intensity, offset"
   ]
  },
  {
   "cell_type": "code",
   "execution_count": 111,
   "id": "6d40fc1c-42a5-4371-b01b-d115b09d71d4",
   "metadata": {},
   "outputs": [],
   "source": [
    "def loss(x):\n",
    "    m, sigma, B, rho, Rstar, q = x[:6]\n",
    "    intensity = x[6:11].reshape(-1,1)\n",
    "    offset = x[11:].reshape(-1,1)\n",
    "    spectrum = generate_multiple_peaks(single_peak,\n",
    "                                        m,\n",
    "                                        sigma,\n",
    "                                       rho,\n",
    "                                        Rstar,\n",
    "                                        q,\n",
    "                                        peak_intensities=intensity,\n",
    "                                       planar_fault_probability=B,\n",
    "                                       offset=offset)\n",
    "    return true_spectrum.ravel() - spectrum.ravel()"
   ]
  },
  {
   "cell_type": "markdown",
   "id": "08d03717-4ff0-4363-b5f9-58b5ca3de532",
   "metadata": {},
   "source": [
    "Specify the initial guess for the parmeters. The initial intensity and offset values are determined by picking the relative maxima of the spectrum. Based on previous studies, we define a feasible range for the microstructural parameters. The initial values are chosen from this range following a uniform distribution."
   ]
  },
  {
   "cell_type": "code",
   "execution_count": 78,
   "id": "935227d8-9096-405a-96f6-30203b21bf2b",
   "metadata": {},
   "outputs": [],
   "source": [
    "from scipy.signal import find_peaks\n",
    "def calculate_offsets_and_intensities(x, prominence = 0.01, height = None):\n",
    "    peaks, _ = find_peaks(x, prominence=prominence, height = height)\n",
    "    theoretical_peaks = np.array([3, 4, 8, 11, 12])\n",
    "    peak_offsets = list(kappas_interpolated[peaks] - theoretical_peaks)\n",
    "    peak_intensities = list(x[peaks])\n",
    "    return peak_offsets, peak_intensities\n"
   ]
  },
  {
   "cell_type": "code",
   "execution_count": 29,
   "id": "08ae92e8-1b52-4c58-88b9-91d6dc8d9ea6",
   "metadata": {},
   "outputs": [],
   "source": [
    "rng = np.random.default_rng(1)\n",
    "domains = {'B': [0, 0.05],\n",
    "           'm': [5., 100.],\n",
    "           'sigma': [0.1, 1.],\n",
    "           'rho': [0.0005, 0.05],\n",
    "           'Rstar' : [2., 100.],\n",
    "           'q' : [1.5, 2.3]\n",
    "          }\n",
    "\n"
   ]
  },
  {
   "cell_type": "code",
   "execution_count": 79,
   "id": "48b04a80-0120-4f19-bae2-094493f3850f",
   "metadata": {},
   "outputs": [],
   "source": [
    "np.random.seed(3)\n",
    "m_init = rng.uniform(low = domains['m'][0], high = domains['m'][1])\n",
    "sigma_init = rng.uniform(low = domains['sigma'][0], high = domains['sigma'][1])\n",
    "B_init = rng.uniform(low = domains['B'][0], high = domains['B'][1])\n",
    "rho_init = rng.uniform(low = domains['rho'][0], high = domains['rho'][1])\n",
    "Rstar_init = rng.uniform(low = domains['Rstar'][0], high = domains['Rstar'][1])\n",
    "q_init = rng.uniform(low = domains['q'][0], high = domains['q'][1])\n",
    "offsets_init, intensities_init = calculate_offsets_and_intensities(true_spectrum)\n"
   ]
  },
  {
   "cell_type": "markdown",
   "id": "9d3398c2-19f3-47c1-9dc0-951fd27fb6c6",
   "metadata": {},
   "source": [
    "We also impose these bounds for the least squares regression. "
   ]
  },
  {
   "cell_type": "code",
   "execution_count": 80,
   "id": "c00c1bb4-3821-4e59-a33e-862df6a87b0c",
   "metadata": {},
   "outputs": [],
   "source": [
    "intensity_min = 0.001\n",
    "intensity_max = 1.1\n",
    "\n",
    "bounds1 = [domains['m'][0],\n",
    "           domains['sigma'][0], \n",
    "           domains['B'][0],\n",
    "           domains['rho'][0],\n",
    "           domains['Rstar'][0],\n",
    "           domains['q'][0],\n",
    "            intensity_min, intensity_min, intensity_min, intensity_min,intensity_min, \n",
    "           -0.5, -0.5,-0.5, -0.5, -0.5]\n",
    "bounds2 = [domains['m'][1],\n",
    "           domains['sigma'][1],\n",
    "           domains['B'][1],\n",
    "           domains['rho'][1],\n",
    "           domains['Rstar'][1],\n",
    "           domains['q'][1],\n",
    "            intensity_max, intensity_max,intensity_max, intensity_max, intensity_max,\n",
    "           0.5, 0.5, 0.5, 0.5, 0.5]"
   ]
  },
  {
   "cell_type": "code",
   "execution_count": 113,
   "id": "7e96cf1c-c71a-4448-8f97-653e8e7ecc99",
   "metadata": {},
   "outputs": [],
   "source": [
    "x_0 = np.concatenate(([m_init, sigma_init, B_init, rho_init, Rstar_init, q_init], intensities_init, offsets_init))"
   ]
  },
  {
   "cell_type": "code",
   "execution_count": 115,
   "id": "435bf1c9-79fc-4f3e-80d9-bfde9ef459d7",
   "metadata": {},
   "outputs": [],
   "source": [
    "from scipy.optimize import least_squares"
   ]
  },
  {
   "cell_type": "code",
   "execution_count": 116,
   "id": "7508713c-ca3d-4368-8a5b-8e9691909043",
   "metadata": {},
   "outputs": [
    {
     "name": "stdout",
     "output_type": "stream",
     "text": [
      "   Iteration     Total nfev        Cost      Cost reduction    Step norm     Optimality   \n",
      "       0              1         2.5233e+00                                    2.98e+00    \n",
      "       1              4         1.8925e+00      6.31e-01       1.23e+00       2.69e+00    \n",
      "       2              7         8.5592e-01      1.04e+00       3.49e-02       1.01e+00    \n",
      "       3              8         5.8898e-01      2.67e-01       8.63e-02       2.49e+00    \n",
      "       4              9         3.9378e-01      1.95e-01       9.82e-02       1.13e+00    \n",
      "       5             11         2.6160e-01      1.32e-01       7.17e-03       1.48e-01    \n",
      "       6             13         2.4182e-01      1.98e-02       5.23e-03       1.38e-01    \n",
      "       7             15         2.2445e-01      1.74e-02       3.47e-03       6.46e-01    \n",
      "       8             16         1.9482e-01      2.96e-02       7.67e-03       1.54e-01    \n",
      "       9             17         1.8365e-01      1.12e-02       1.94e-02       1.02e-01    \n",
      "      10             20         1.8257e-01      1.08e-03       2.34e-03       9.66e-02    \n",
      "      11             22         1.8206e-01      5.16e-04       1.16e-03       9.36e-02    \n",
      "      12             24         1.8180e-01      2.52e-04       5.79e-04       9.21e-02    \n",
      "      13             25         1.8131e-01      4.93e-04       1.16e-03       8.91e-02    \n",
      "      14             27         1.8107e-01      2.41e-04       5.77e-04       8.77e-02    \n",
      "      15             31         1.8106e-01      7.46e-06       1.80e-05       8.76e-02    \n",
      "      16             34         1.8106e-01      9.33e-07       2.25e-06       8.76e-02    \n",
      "`ftol` termination condition is satisfied.\n",
      "Function evaluations 34, initial cost 2.5233e+00, final cost 1.8106e-01, first-order optimality 8.76e-02.\n"
     ]
    }
   ],
   "source": [
    "res_constrained  = least_squares(loss, x_0, ftol = 1e-5, bounds = (bounds1, bounds2),\n",
    "                                     verbose = 2, jac = '2-point')"
   ]
  },
  {
   "cell_type": "code",
   "execution_count": 118,
   "id": "53412d5e-fd83-435c-b877-d2ad04e65c61",
   "metadata": {},
   "outputs": [],
   "source": [
    "m, sigma, B, rho, Rstar, q, intensity, offset = unpack_x(res_constrained.x)"
   ]
  },
  {
   "cell_type": "code",
   "execution_count": 119,
   "id": "67e886b2-f4a7-44e8-b9eb-f3f6606ad928",
   "metadata": {},
   "outputs": [],
   "source": [
    "predicted_spectrum = generate_multiple_peaks(single_peak,\n",
    "                                        m,\n",
    "                                        sigma,\n",
    "                                        rho,\n",
    "                                        Rstar,\n",
    "                                        q,\n",
    "                                        peak_intensities = intensity,\n",
    "                                        planar_fault_probability = B,\n",
    "                                        offset = offset)"
   ]
  },
  {
   "cell_type": "code",
   "execution_count": 120,
   "id": "eb3cd2f7-936f-4e2f-b89f-043fb988f3db",
   "metadata": {},
   "outputs": [
    {
     "data": {
      "text/plain": [
       "Text(0, 0.5, 'Intensity')"
      ]
     },
     "execution_count": 120,
     "metadata": {},
     "output_type": "execute_result"
    },
    {
     "data": {
      "image/png": "[encoded data removed]",
      "text/plain": [
       "<Figure size 432x288 with 1 Axes>"
      ]
     },
     "metadata": {
      "needs_background": "light"
     },
     "output_type": "display_data"
    }
   ],
   "source": [
    "plt.plot(single_peak.positive_diffraction_vectors, true_spectrum, label = 'True spectrum')\n",
    "plt.plot(single_peak.positive_diffraction_vectors, predicted_spectrum, label = 'With identified parameters')\n",
    "plt.legend()\n",
    "plt.xlabel('$\\\\kappa$')\n",
    "plt.ylabel('Intensity')\n"
   ]
  },
  {
   "cell_type": "code",
   "execution_count": 121,
   "id": "4ec97367-c5a7-471b-a0ad-ae88b4c08cca",
   "metadata": {},
   "outputs": [
    {
     "data": {
      "text/plain": [
       "Text(0, 0.5, 'Error')"
      ]
     },
     "execution_count": 121,
     "metadata": {},
     "output_type": "execute_result"
    },
    {
     "data": {
      "image/png": "[encoded data removed]",
      "text/plain": [
       "<Figure size 432x288 with 1 Axes>"
      ]
     },
     "metadata": {
      "needs_background": "light"
     },
     "output_type": "display_data"
    }
   ],
   "source": [
    "plt.semilogy(single_peak.positive_diffraction_vectors, np.abs(true_spectrum-predicted_spectrum), c='black')\n",
    "plt.xlabel('$\\\\kappa$')\n",
    "plt.ylabel('Error')\n"
   ]
  }
 ],
 "metadata": {
  "kernelspec": {
   "display_name": "Python 3 (ipykernel)",
   "language": "python",
   "name": "python3"
  },
  "language_info": {
   "codemirror_mode": {
    "name": "ipython",
    "version": 3
   },
   "file_extension": ".py",
   "mimetype": "text/x-python",
   "name": "python",
   "nbconvert_exporter": "python",
   "pygments_lexer": "ipython3",
   "version": "3.9.7"
  }
 },
 "nbformat": 4,
 "nbformat_minor": 5
}
